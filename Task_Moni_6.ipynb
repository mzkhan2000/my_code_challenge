{
  "nbformat": 4,
  "nbformat_minor": 0,
  "metadata": {
    "colab": {
      "name": "Task_Moni.ipynb",
      "provenance": [],
      "authorship_tag": "ABX9TyP/4drYi/AHJYaDvcK6gE2u",
      "include_colab_link": true
    },
    "kernelspec": {
      "name": "python3",
      "display_name": "Python 3"
    },
    "language_info": {
      "name": "python"
    }
  },
  "cells": [
    {
      "cell_type": "markdown",
      "metadata": {
        "id": "view-in-github",
        "colab_type": "text"
      },
      "source": [
        "<a href=\"https://colab.research.google.com/github/mzkhan2000/my_code_challenge/blob/main/Task_Moni_6.ipynb\" target=\"_parent\"><img src=\"https://colab.research.google.com/assets/colab-badge.svg\" alt=\"Open In Colab\"/></a>"
      ]
    },
    {
      "cell_type": "code",
      "execution_count": 1,
      "metadata": {
        "id": "U3mloGHBQn5w"
      },
      "outputs": [],
      "source": [
        "# import necessary libraries - Monir\n",
        "import pandas as pd\n",
        "import numpy as np\n",
        "import datetime\n",
        "from datetime import datetime"
      ]
    },
    {
      "cell_type": "code",
      "source": [
        "from google.colab import files\n",
        "uploaded = files.upload()"
      ],
      "metadata": {
        "colab": {
          "resources": {
            "http://localhost:8080/nbextensions/google.colab/files.js": {
              "data": "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",
              "ok": true,
              "headers": [
                [
                  "content-type",
                  "application/javascript"
                ]
              ],
              "status": 200,
              "status_text": ""
            }
          },
          "base_uri": "https://localhost:8080/",
          "height": 74
        },
        "id": "me_fcCQLSa2i",
        "outputId": "978dbae8-28de-44e3-cdcc-ea6e96477f14"
      },
      "execution_count": 2,
      "outputs": [
        {
          "output_type": "display_data",
          "data": {
            "text/html": [
              "\n",
              "     <input type=\"file\" id=\"files-82f01d33-5c86-4f55-bece-dbde359fdb66\" name=\"files[]\" multiple disabled\n",
              "        style=\"border:none\" />\n",
              "     <output id=\"result-82f01d33-5c86-4f55-bece-dbde359fdb66\">\n",
              "      Upload widget is only available when the cell has been executed in the\n",
              "      current browser session. Please rerun this cell to enable.\n",
              "      </output>\n",
              "      <script src=\"/nbextensions/google.colab/files.js\"></script> "
            ],
            "text/plain": [
              "<IPython.core.display.HTML object>"
            ]
          },
          "metadata": {}
        },
        {
          "output_type": "stream",
          "name": "stdout",
          "text": [
            "Saving date-time-cars.csv to date-time-cars.csv\n"
          ]
        }
      ]
    },
    {
      "cell_type": "code",
      "source": [
        "data = pd.read_csv('date-time-cars.csv', header=None)"
      ],
      "metadata": {
        "id": "REaJX3L8QvEG"
      },
      "execution_count": 3,
      "outputs": []
    },
    {
      "cell_type": "code",
      "source": [
        "print(data)"
      ],
      "metadata": {
        "colab": {
          "base_uri": "https://localhost:8080/"
        },
        "id": "RO7wwH23Um6h",
        "outputId": "8f50f99d-70aa-4e63-b3b2-914eef3fe337"
      },
      "execution_count": 4,
      "outputs": [
        {
          "output_type": "stream",
          "name": "stdout",
          "text": [
            "                      0   1\n",
            "0   2021-12-01T05:00:00   5\n",
            "1   2021-12-01T05:30:00  12\n",
            "2   2021-12-01T06:00:00  14\n",
            "3   2021-12-01T06:30:00  15\n",
            "4   2021-12-01T07:00:00  25\n",
            "5   2021-12-01T07:30:00  46\n",
            "6   2021-12-01T08:00:00  42\n",
            "7   2021-12-01T15:00:00   9\n",
            "8   2021-12-01T15:30:00  11\n",
            "9   2021-12-01T23:30:00   0\n",
            "10  2021-12-05T09:30:00  18\n",
            "11  2021-12-05T10:30:00  15\n",
            "12  2021-12-05T11:30:00   7\n",
            "13  2021-12-05T12:30:00   6\n",
            "14  2021-12-05T13:30:00   9\n",
            "15  2021-12-05T14:30:00  11\n",
            "16  2021-12-05T15:30:00  15\n",
            "17  2021-12-08T18:00:00  33\n",
            "18  2021-12-08T19:00:00  28\n",
            "19  2021-12-08T20:00:00  25\n",
            "20  2021-12-08T21:00:00  21\n",
            "21  2021-12-08T22:00:00  16\n",
            "22  2021-12-08T23:00:00  11\n",
            "23  2021-12-09T00:00:00   4\n"
          ]
        }
      ]
    },
    {
      "cell_type": "code",
      "source": [
        "data.columns = [\"datetime\", \"cars\"]"
      ],
      "metadata": {
        "id": "gukpYDOYSliS"
      },
      "execution_count": 5,
      "outputs": []
    },
    {
      "cell_type": "code",
      "source": [
        "df=data\n",
        "# convert the 'Date' column to datetime format\n",
        "df['datetime']= pd.to_datetime(df['datetime'])\n",
        " \n",
        "# Check the format of 'Date' column\n",
        "df.info()"
      ],
      "metadata": {
        "colab": {
          "base_uri": "https://localhost:8080/"
        },
        "id": "fwry2BFdqJYw",
        "outputId": "5757691c-6feb-4c13-8644-2c4358ba09df"
      },
      "execution_count": 6,
      "outputs": [
        {
          "output_type": "stream",
          "name": "stdout",
          "text": [
            "<class 'pandas.core.frame.DataFrame'>\n",
            "RangeIndex: 24 entries, 0 to 23\n",
            "Data columns (total 2 columns):\n",
            " #   Column    Non-Null Count  Dtype         \n",
            "---  ------    --------------  -----         \n",
            " 0   datetime  24 non-null     datetime64[ns]\n",
            " 1   cars      24 non-null     int64         \n",
            "dtypes: datetime64[ns](1), int64(1)\n",
            "memory usage: 512.0 bytes\n"
          ]
        }
      ]
    },
    {
      "cell_type": "markdown",
      "source": [
        "The number of cars seen in total"
      ],
      "metadata": {
        "id": "LAraRYv8XVe_"
      }
    },
    {
      "cell_type": "code",
      "source": [
        "total_number_of_cars = data['cars'].sum()\n",
        "print(total_number_of_cars)"
      ],
      "metadata": {
        "colab": {
          "base_uri": "https://localhost:8080/"
        },
        "id": "5hX13wBQWOqA",
        "outputId": "4d39fbe9-7360-47cf-9c9e-d0b608ddf98e"
      },
      "execution_count": 7,
      "outputs": [
        {
          "output_type": "stream",
          "name": "stdout",
          "text": [
            "398\n"
          ]
        }
      ]
    },
    {
      "cell_type": "code",
      "source": [
        "m = df['datetime'].dt.date.groupby(df['cars']).apply(lambda x: x.diff().shift(-1).ffill()).abs().eq(1)"
      ],
      "metadata": {
        "id": "eNBWC-BXqz9B"
      },
      "execution_count": 8,
      "outputs": []
    },
    {
      "cell_type": "code",
      "source": [
        "df1 = df[m]"
      ],
      "metadata": {
        "id": "pznzm9tPrNXG"
      },
      "execution_count": 9,
      "outputs": []
    },
    {
      "cell_type": "code",
      "source": [
        "print(df1)"
      ],
      "metadata": {
        "colab": {
          "base_uri": "https://localhost:8080/"
        },
        "id": "jBvo1riYrO16",
        "outputId": "73cfbae6-cd56-49aa-b640-8e73eca06499"
      },
      "execution_count": 11,
      "outputs": [
        {
          "output_type": "stream",
          "name": "stdout",
          "text": [
            "Empty DataFrame\n",
            "Columns: [datetime, cars]\n",
            "Index: []\n"
          ]
        }
      ]
    },
    {
      "cell_type": "code",
      "source": [
        "#convert datetime column to just date\n",
        "df['date'] = pd.to_datetime(df['datetime']).dt.date"
      ],
      "metadata": {
        "id": "sXaiimGosAvw"
      },
      "execution_count": 12,
      "outputs": []
    },
    {
      "cell_type": "markdown",
      "source": [
        "A sequence of lines where each line contains a date (in yyyy-mm-dd format) and the number of cars seen on that day (eg. 2016-11-23 289) for all days listed in the input file."
      ],
      "metadata": {
        "id": "H3xaF62eXrIu"
      }
    },
    {
      "cell_type": "code",
      "source": [
        "data.info()"
      ],
      "metadata": {
        "colab": {
          "base_uri": "https://localhost:8080/"
        },
        "id": "H8OwxssDXaYd",
        "outputId": "638d8b5a-e097-4474-b82f-6f63b3879355"
      },
      "execution_count": 13,
      "outputs": [
        {
          "output_type": "stream",
          "name": "stdout",
          "text": [
            "<class 'pandas.core.frame.DataFrame'>\n",
            "RangeIndex: 24 entries, 0 to 23\n",
            "Data columns (total 3 columns):\n",
            " #   Column    Non-Null Count  Dtype         \n",
            "---  ------    --------------  -----         \n",
            " 0   datetime  24 non-null     datetime64[ns]\n",
            " 1   cars      24 non-null     int64         \n",
            " 2   date      24 non-null     object        \n",
            "dtypes: datetime64[ns](1), int64(1), object(1)\n",
            "memory usage: 704.0+ bytes\n"
          ]
        }
      ]
    },
    {
      "cell_type": "code",
      "source": [
        "print(df)"
      ],
      "metadata": {
        "id": "u6oP9H9UZh5E",
        "colab": {
          "base_uri": "https://localhost:8080/"
        },
        "outputId": "e325e819-b4d0-4e73-aae0-9b4645e472fa"
      },
      "execution_count": 14,
      "outputs": [
        {
          "output_type": "stream",
          "name": "stdout",
          "text": [
            "              datetime  cars        date\n",
            "0  2021-12-01 05:00:00     5  2021-12-01\n",
            "1  2021-12-01 05:30:00    12  2021-12-01\n",
            "2  2021-12-01 06:00:00    14  2021-12-01\n",
            "3  2021-12-01 06:30:00    15  2021-12-01\n",
            "4  2021-12-01 07:00:00    25  2021-12-01\n",
            "5  2021-12-01 07:30:00    46  2021-12-01\n",
            "6  2021-12-01 08:00:00    42  2021-12-01\n",
            "7  2021-12-01 15:00:00     9  2021-12-01\n",
            "8  2021-12-01 15:30:00    11  2021-12-01\n",
            "9  2021-12-01 23:30:00     0  2021-12-01\n",
            "10 2021-12-05 09:30:00    18  2021-12-05\n",
            "11 2021-12-05 10:30:00    15  2021-12-05\n",
            "12 2021-12-05 11:30:00     7  2021-12-05\n",
            "13 2021-12-05 12:30:00     6  2021-12-05\n",
            "14 2021-12-05 13:30:00     9  2021-12-05\n",
            "15 2021-12-05 14:30:00    11  2021-12-05\n",
            "16 2021-12-05 15:30:00    15  2021-12-05\n",
            "17 2021-12-08 18:00:00    33  2021-12-08\n",
            "18 2021-12-08 19:00:00    28  2021-12-08\n",
            "19 2021-12-08 20:00:00    25  2021-12-08\n",
            "20 2021-12-08 21:00:00    21  2021-12-08\n",
            "21 2021-12-08 22:00:00    16  2021-12-08\n",
            "22 2021-12-08 23:00:00    11  2021-12-08\n",
            "23 2021-12-09 00:00:00     4  2021-12-09\n"
          ]
        }
      ]
    },
    {
      "cell_type": "code",
      "source": [
        "df.set_index('date')"
      ],
      "metadata": {
        "colab": {
          "base_uri": "https://localhost:8080/",
          "height": 833
        },
        "id": "fz4NqOI0tTJH",
        "outputId": "837e4d4e-0ee7-4415-b393-842aacea9c34"
      },
      "execution_count": 16,
      "outputs": [
        {
          "output_type": "execute_result",
          "data": {
            "text/html": [
              "\n",
              "  <div id=\"df-df8ec07d-85b5-4d5b-9597-2b8da51714fc\">\n",
              "    <div class=\"colab-df-container\">\n",
              "      <div>\n",
              "<style scoped>\n",
              "    .dataframe tbody tr th:only-of-type {\n",
              "        vertical-align: middle;\n",
              "    }\n",
              "\n",
              "    .dataframe tbody tr th {\n",
              "        vertical-align: top;\n",
              "    }\n",
              "\n",
              "    .dataframe thead th {\n",
              "        text-align: right;\n",
              "    }\n",
              "</style>\n",
              "<table border=\"1\" class=\"dataframe\">\n",
              "  <thead>\n",
              "    <tr style=\"text-align: right;\">\n",
              "      <th></th>\n",
              "      <th>datetime</th>\n",
              "      <th>cars</th>\n",
              "    </tr>\n",
              "    <tr>\n",
              "      <th>date</th>\n",
              "      <th></th>\n",
              "      <th></th>\n",
              "    </tr>\n",
              "  </thead>\n",
              "  <tbody>\n",
              "    <tr>\n",
              "      <th>2021-12-01</th>\n",
              "      <td>2021-12-01 05:00:00</td>\n",
              "      <td>5</td>\n",
              "    </tr>\n",
              "    <tr>\n",
              "      <th>2021-12-01</th>\n",
              "      <td>2021-12-01 05:30:00</td>\n",
              "      <td>12</td>\n",
              "    </tr>\n",
              "    <tr>\n",
              "      <th>2021-12-01</th>\n",
              "      <td>2021-12-01 06:00:00</td>\n",
              "      <td>14</td>\n",
              "    </tr>\n",
              "    <tr>\n",
              "      <th>2021-12-01</th>\n",
              "      <td>2021-12-01 06:30:00</td>\n",
              "      <td>15</td>\n",
              "    </tr>\n",
              "    <tr>\n",
              "      <th>2021-12-01</th>\n",
              "      <td>2021-12-01 07:00:00</td>\n",
              "      <td>25</td>\n",
              "    </tr>\n",
              "    <tr>\n",
              "      <th>2021-12-01</th>\n",
              "      <td>2021-12-01 07:30:00</td>\n",
              "      <td>46</td>\n",
              "    </tr>\n",
              "    <tr>\n",
              "      <th>2021-12-01</th>\n",
              "      <td>2021-12-01 08:00:00</td>\n",
              "      <td>42</td>\n",
              "    </tr>\n",
              "    <tr>\n",
              "      <th>2021-12-01</th>\n",
              "      <td>2021-12-01 15:00:00</td>\n",
              "      <td>9</td>\n",
              "    </tr>\n",
              "    <tr>\n",
              "      <th>2021-12-01</th>\n",
              "      <td>2021-12-01 15:30:00</td>\n",
              "      <td>11</td>\n",
              "    </tr>\n",
              "    <tr>\n",
              "      <th>2021-12-01</th>\n",
              "      <td>2021-12-01 23:30:00</td>\n",
              "      <td>0</td>\n",
              "    </tr>\n",
              "    <tr>\n",
              "      <th>2021-12-05</th>\n",
              "      <td>2021-12-05 09:30:00</td>\n",
              "      <td>18</td>\n",
              "    </tr>\n",
              "    <tr>\n",
              "      <th>2021-12-05</th>\n",
              "      <td>2021-12-05 10:30:00</td>\n",
              "      <td>15</td>\n",
              "    </tr>\n",
              "    <tr>\n",
              "      <th>2021-12-05</th>\n",
              "      <td>2021-12-05 11:30:00</td>\n",
              "      <td>7</td>\n",
              "    </tr>\n",
              "    <tr>\n",
              "      <th>2021-12-05</th>\n",
              "      <td>2021-12-05 12:30:00</td>\n",
              "      <td>6</td>\n",
              "    </tr>\n",
              "    <tr>\n",
              "      <th>2021-12-05</th>\n",
              "      <td>2021-12-05 13:30:00</td>\n",
              "      <td>9</td>\n",
              "    </tr>\n",
              "    <tr>\n",
              "      <th>2021-12-05</th>\n",
              "      <td>2021-12-05 14:30:00</td>\n",
              "      <td>11</td>\n",
              "    </tr>\n",
              "    <tr>\n",
              "      <th>2021-12-05</th>\n",
              "      <td>2021-12-05 15:30:00</td>\n",
              "      <td>15</td>\n",
              "    </tr>\n",
              "    <tr>\n",
              "      <th>2021-12-08</th>\n",
              "      <td>2021-12-08 18:00:00</td>\n",
              "      <td>33</td>\n",
              "    </tr>\n",
              "    <tr>\n",
              "      <th>2021-12-08</th>\n",
              "      <td>2021-12-08 19:00:00</td>\n",
              "      <td>28</td>\n",
              "    </tr>\n",
              "    <tr>\n",
              "      <th>2021-12-08</th>\n",
              "      <td>2021-12-08 20:00:00</td>\n",
              "      <td>25</td>\n",
              "    </tr>\n",
              "    <tr>\n",
              "      <th>2021-12-08</th>\n",
              "      <td>2021-12-08 21:00:00</td>\n",
              "      <td>21</td>\n",
              "    </tr>\n",
              "    <tr>\n",
              "      <th>2021-12-08</th>\n",
              "      <td>2021-12-08 22:00:00</td>\n",
              "      <td>16</td>\n",
              "    </tr>\n",
              "    <tr>\n",
              "      <th>2021-12-08</th>\n",
              "      <td>2021-12-08 23:00:00</td>\n",
              "      <td>11</td>\n",
              "    </tr>\n",
              "    <tr>\n",
              "      <th>2021-12-09</th>\n",
              "      <td>2021-12-09 00:00:00</td>\n",
              "      <td>4</td>\n",
              "    </tr>\n",
              "  </tbody>\n",
              "</table>\n",
              "</div>\n",
              "      <button class=\"colab-df-convert\" onclick=\"convertToInteractive('df-df8ec07d-85b5-4d5b-9597-2b8da51714fc')\"\n",
              "              title=\"Convert this dataframe to an interactive table.\"\n",
              "              style=\"display:none;\">\n",
              "        \n",
              "  <svg xmlns=\"http://www.w3.org/2000/svg\" height=\"24px\"viewBox=\"0 0 24 24\"\n",
              "       width=\"24px\">\n",
              "    <path d=\"M0 0h24v24H0V0z\" fill=\"none\"/>\n",
              "    <path d=\"M18.56 5.44l.94 2.06.94-2.06 2.06-.94-2.06-.94-.94-2.06-.94 2.06-2.06.94zm-11 1L8.5 8.5l.94-2.06 2.06-.94-2.06-.94L8.5 2.5l-.94 2.06-2.06.94zm10 10l.94 2.06.94-2.06 2.06-.94-2.06-.94-.94-2.06-.94 2.06-2.06.94z\"/><path d=\"M17.41 7.96l-1.37-1.37c-.4-.4-.92-.59-1.43-.59-.52 0-1.04.2-1.43.59L10.3 9.45l-7.72 7.72c-.78.78-.78 2.05 0 2.83L4 21.41c.39.39.9.59 1.41.59.51 0 1.02-.2 1.41-.59l7.78-7.78 2.81-2.81c.8-.78.8-2.07 0-2.86zM5.41 20L4 18.59l7.72-7.72 1.47 1.35L5.41 20z\"/>\n",
              "  </svg>\n",
              "      </button>\n",
              "      \n",
              "  <style>\n",
              "    .colab-df-container {\n",
              "      display:flex;\n",
              "      flex-wrap:wrap;\n",
              "      gap: 12px;\n",
              "    }\n",
              "\n",
              "    .colab-df-convert {\n",
              "      background-color: #E8F0FE;\n",
              "      border: none;\n",
              "      border-radius: 50%;\n",
              "      cursor: pointer;\n",
              "      display: none;\n",
              "      fill: #1967D2;\n",
              "      height: 32px;\n",
              "      padding: 0 0 0 0;\n",
              "      width: 32px;\n",
              "    }\n",
              "\n",
              "    .colab-df-convert:hover {\n",
              "      background-color: #E2EBFA;\n",
              "      box-shadow: 0px 1px 2px rgba(60, 64, 67, 0.3), 0px 1px 3px 1px rgba(60, 64, 67, 0.15);\n",
              "      fill: #174EA6;\n",
              "    }\n",
              "\n",
              "    [theme=dark] .colab-df-convert {\n",
              "      background-color: #3B4455;\n",
              "      fill: #D2E3FC;\n",
              "    }\n",
              "\n",
              "    [theme=dark] .colab-df-convert:hover {\n",
              "      background-color: #434B5C;\n",
              "      box-shadow: 0px 1px 3px 1px rgba(0, 0, 0, 0.15);\n",
              "      filter: drop-shadow(0px 1px 2px rgba(0, 0, 0, 0.3));\n",
              "      fill: #FFFFFF;\n",
              "    }\n",
              "  </style>\n",
              "\n",
              "      <script>\n",
              "        const buttonEl =\n",
              "          document.querySelector('#df-df8ec07d-85b5-4d5b-9597-2b8da51714fc button.colab-df-convert');\n",
              "        buttonEl.style.display =\n",
              "          google.colab.kernel.accessAllowed ? 'block' : 'none';\n",
              "\n",
              "        async function convertToInteractive(key) {\n",
              "          const element = document.querySelector('#df-df8ec07d-85b5-4d5b-9597-2b8da51714fc');\n",
              "          const dataTable =\n",
              "            await google.colab.kernel.invokeFunction('convertToInteractive',\n",
              "                                                     [key], {});\n",
              "          if (!dataTable) return;\n",
              "\n",
              "          const docLinkHtml = 'Like what you see? Visit the ' +\n",
              "            '<a target=\"_blank\" href=https://colab.research.google.com/notebooks/data_table.ipynb>data table notebook</a>'\n",
              "            + ' to learn more about interactive tables.';\n",
              "          element.innerHTML = '';\n",
              "          dataTable['output_type'] = 'display_data';\n",
              "          await google.colab.output.renderOutput(dataTable, element);\n",
              "          const docLink = document.createElement('div');\n",
              "          docLink.innerHTML = docLinkHtml;\n",
              "          element.appendChild(docLink);\n",
              "        }\n",
              "      </script>\n",
              "    </div>\n",
              "  </div>\n",
              "  "
            ],
            "text/plain": [
              "                      datetime  cars\n",
              "date                                \n",
              "2021-12-01 2021-12-01 05:00:00     5\n",
              "2021-12-01 2021-12-01 05:30:00    12\n",
              "2021-12-01 2021-12-01 06:00:00    14\n",
              "2021-12-01 2021-12-01 06:30:00    15\n",
              "2021-12-01 2021-12-01 07:00:00    25\n",
              "2021-12-01 2021-12-01 07:30:00    46\n",
              "2021-12-01 2021-12-01 08:00:00    42\n",
              "2021-12-01 2021-12-01 15:00:00     9\n",
              "2021-12-01 2021-12-01 15:30:00    11\n",
              "2021-12-01 2021-12-01 23:30:00     0\n",
              "2021-12-05 2021-12-05 09:30:00    18\n",
              "2021-12-05 2021-12-05 10:30:00    15\n",
              "2021-12-05 2021-12-05 11:30:00     7\n",
              "2021-12-05 2021-12-05 12:30:00     6\n",
              "2021-12-05 2021-12-05 13:30:00     9\n",
              "2021-12-05 2021-12-05 14:30:00    11\n",
              "2021-12-05 2021-12-05 15:30:00    15\n",
              "2021-12-08 2021-12-08 18:00:00    33\n",
              "2021-12-08 2021-12-08 19:00:00    28\n",
              "2021-12-08 2021-12-08 20:00:00    25\n",
              "2021-12-08 2021-12-08 21:00:00    21\n",
              "2021-12-08 2021-12-08 22:00:00    16\n",
              "2021-12-08 2021-12-08 23:00:00    11\n",
              "2021-12-09 2021-12-09 00:00:00     4"
            ]
          },
          "metadata": {},
          "execution_count": 16
        }
      ]
    },
    {
      "cell_type": "code",
      "source": [
        "print(df)"
      ],
      "metadata": {
        "colab": {
          "base_uri": "https://localhost:8080/"
        },
        "id": "G9Rm8-1eta9L",
        "outputId": "ea84fc06-b0e2-497a-ac7a-ad28d5fbcae5"
      },
      "execution_count": 17,
      "outputs": [
        {
          "output_type": "stream",
          "name": "stdout",
          "text": [
            "              datetime  cars        date\n",
            "0  2021-12-01 05:00:00     5  2021-12-01\n",
            "1  2021-12-01 05:30:00    12  2021-12-01\n",
            "2  2021-12-01 06:00:00    14  2021-12-01\n",
            "3  2021-12-01 06:30:00    15  2021-12-01\n",
            "4  2021-12-01 07:00:00    25  2021-12-01\n",
            "5  2021-12-01 07:30:00    46  2021-12-01\n",
            "6  2021-12-01 08:00:00    42  2021-12-01\n",
            "7  2021-12-01 15:00:00     9  2021-12-01\n",
            "8  2021-12-01 15:30:00    11  2021-12-01\n",
            "9  2021-12-01 23:30:00     0  2021-12-01\n",
            "10 2021-12-05 09:30:00    18  2021-12-05\n",
            "11 2021-12-05 10:30:00    15  2021-12-05\n",
            "12 2021-12-05 11:30:00     7  2021-12-05\n",
            "13 2021-12-05 12:30:00     6  2021-12-05\n",
            "14 2021-12-05 13:30:00     9  2021-12-05\n",
            "15 2021-12-05 14:30:00    11  2021-12-05\n",
            "16 2021-12-05 15:30:00    15  2021-12-05\n",
            "17 2021-12-08 18:00:00    33  2021-12-08\n",
            "18 2021-12-08 19:00:00    28  2021-12-08\n",
            "19 2021-12-08 20:00:00    25  2021-12-08\n",
            "20 2021-12-08 21:00:00    21  2021-12-08\n",
            "21 2021-12-08 22:00:00    16  2021-12-08\n",
            "22 2021-12-08 23:00:00    11  2021-12-08\n",
            "23 2021-12-09 00:00:00     4  2021-12-09\n"
          ]
        }
      ]
    },
    {
      "cell_type": "code",
      "source": [
        "df=data\n",
        "# convert the 'datetime' column to datetime format\n",
        "df['datetime']= pd.to_datetime(df['datetime'])\n",
        " \n",
        "# Check the format of 'Date' column\n",
        "df.info()"
      ],
      "metadata": {
        "colab": {
          "base_uri": "https://localhost:8080/"
        },
        "id": "N0uJJ1pNZAt3",
        "outputId": "411ba6d2-ae27-4aad-88de-763a6aafe0a1"
      },
      "execution_count": null,
      "outputs": [
        {
          "output_type": "stream",
          "name": "stdout",
          "text": [
            "<class 'pandas.core.frame.DataFrame'>\n",
            "RangeIndex: 24 entries, 0 to 23\n",
            "Data columns (total 2 columns):\n",
            " #   Column    Non-Null Count  Dtype         \n",
            "---  ------    --------------  -----         \n",
            " 0   datetime  24 non-null     datetime64[ns]\n",
            " 1   cars      24 non-null     int64         \n",
            "dtypes: datetime64[ns](1), int64(1)\n",
            "memory usage: 512.0 bytes\n"
          ]
        }
      ]
    },
    {
      "cell_type": "code",
      "source": [
        "print(df)"
      ],
      "metadata": {
        "colab": {
          "base_uri": "https://localhost:8080/"
        },
        "id": "hhf8RUPtZsXd",
        "outputId": "5d94aaf6-9b30-47ae-aecc-cc4c25fdedf4"
      },
      "execution_count": null,
      "outputs": [
        {
          "output_type": "stream",
          "name": "stdout",
          "text": [
            "              datetime  cars\n",
            "0  2021-12-01 05:00:00     5\n",
            "1  2021-12-01 05:30:00    12\n",
            "2  2021-12-01 06:00:00    14\n",
            "3  2021-12-01 06:30:00    15\n",
            "4  2021-12-01 07:00:00    25\n",
            "5  2021-12-01 07:30:00    46\n",
            "6  2021-12-01 08:00:00    42\n",
            "7  2021-12-01 15:00:00     9\n",
            "8  2021-12-01 15:30:00    11\n",
            "9  2021-12-01 23:30:00     0\n",
            "10 2021-12-05 09:30:00    18\n",
            "11 2021-12-05 10:30:00    15\n",
            "12 2021-12-05 11:30:00     7\n",
            "13 2021-12-05 12:30:00     6\n",
            "14 2021-12-05 13:30:00     9\n",
            "15 2021-12-05 14:30:00    11\n",
            "16 2021-12-05 15:30:00    15\n",
            "17 2021-12-08 18:00:00    33\n",
            "18 2021-12-08 19:00:00    28\n",
            "19 2021-12-08 20:00:00    25\n",
            "20 2021-12-08 21:00:00    21\n",
            "21 2021-12-08 22:00:00    16\n",
            "22 2021-12-08 23:00:00    11\n",
            "23 2021-12-09 00:00:00     4\n"
          ]
        }
      ]
    },
    {
      "cell_type": "code",
      "source": [
        "df.info()"
      ],
      "metadata": {
        "colab": {
          "base_uri": "https://localhost:8080/"
        },
        "id": "8AP_GD-HJOoF",
        "outputId": "87e4de7f-1260-4bcf-8d0d-1898e02b5591"
      },
      "execution_count": 29,
      "outputs": [
        {
          "output_type": "stream",
          "name": "stdout",
          "text": [
            "<class 'pandas.core.frame.DataFrame'>\n",
            "RangeIndex: 24 entries, 0 to 23\n",
            "Data columns (total 3 columns):\n",
            " #   Column    Non-Null Count  Dtype         \n",
            "---  ------    --------------  -----         \n",
            " 0   datetime  24 non-null     datetime64[ns]\n",
            " 1   cars      24 non-null     int64         \n",
            " 2   date      24 non-null     object        \n",
            "dtypes: datetime64[ns](1), int64(1), object(1)\n",
            "memory usage: 704.0+ bytes\n"
          ]
        }
      ]
    },
    {
      "cell_type": "code",
      "source": [
        "df.set_index('datetime')\n",
        "# print(df)\n",
        "print(df.index.name)"
      ],
      "metadata": {
        "colab": {
          "base_uri": "https://localhost:8080/"
        },
        "id": "MNvoX71vKmGv",
        "outputId": "655c39c0-b727-44dc-92a1-e0e8148fab9d"
      },
      "execution_count": 15,
      "outputs": [
        {
          "output_type": "stream",
          "name": "stdout",
          "text": [
            "None\n"
          ]
        }
      ]
    },
    {
      "cell_type": "code",
      "source": [
        "df.set_index('datetime')\n",
        "# df['delta'] = (df['datetime']-df['datetime'].shift()).fillna(0)\n",
        "\n",
        "# df['deltaT'] = df.index.to_series().diff().dt.seconds.div(60, fill_value=0)"
      ],
      "metadata": {
        "colab": {
          "base_uri": "https://localhost:8080/",
          "height": 833
        },
        "id": "OIUqPl8PJvbV",
        "outputId": "5b015956-dfd2-4caa-e2b8-c55adfd83a41"
      },
      "execution_count": 16,
      "outputs": [
        {
          "output_type": "execute_result",
          "data": {
            "text/html": [
              "\n",
              "  <div id=\"df-f7e297cb-ccad-4cf4-9958-ed9a42198088\">\n",
              "    <div class=\"colab-df-container\">\n",
              "      <div>\n",
              "<style scoped>\n",
              "    .dataframe tbody tr th:only-of-type {\n",
              "        vertical-align: middle;\n",
              "    }\n",
              "\n",
              "    .dataframe tbody tr th {\n",
              "        vertical-align: top;\n",
              "    }\n",
              "\n",
              "    .dataframe thead th {\n",
              "        text-align: right;\n",
              "    }\n",
              "</style>\n",
              "<table border=\"1\" class=\"dataframe\">\n",
              "  <thead>\n",
              "    <tr style=\"text-align: right;\">\n",
              "      <th></th>\n",
              "      <th>cars</th>\n",
              "      <th>date</th>\n",
              "    </tr>\n",
              "    <tr>\n",
              "      <th>datetime</th>\n",
              "      <th></th>\n",
              "      <th></th>\n",
              "    </tr>\n",
              "  </thead>\n",
              "  <tbody>\n",
              "    <tr>\n",
              "      <th>2021-12-01 05:00:00</th>\n",
              "      <td>5</td>\n",
              "      <td>2021-12-01</td>\n",
              "    </tr>\n",
              "    <tr>\n",
              "      <th>2021-12-01 05:30:00</th>\n",
              "      <td>12</td>\n",
              "      <td>2021-12-01</td>\n",
              "    </tr>\n",
              "    <tr>\n",
              "      <th>2021-12-01 06:00:00</th>\n",
              "      <td>14</td>\n",
              "      <td>2021-12-01</td>\n",
              "    </tr>\n",
              "    <tr>\n",
              "      <th>2021-12-01 06:30:00</th>\n",
              "      <td>15</td>\n",
              "      <td>2021-12-01</td>\n",
              "    </tr>\n",
              "    <tr>\n",
              "      <th>2021-12-01 07:00:00</th>\n",
              "      <td>25</td>\n",
              "      <td>2021-12-01</td>\n",
              "    </tr>\n",
              "    <tr>\n",
              "      <th>2021-12-01 07:30:00</th>\n",
              "      <td>46</td>\n",
              "      <td>2021-12-01</td>\n",
              "    </tr>\n",
              "    <tr>\n",
              "      <th>2021-12-01 08:00:00</th>\n",
              "      <td>42</td>\n",
              "      <td>2021-12-01</td>\n",
              "    </tr>\n",
              "    <tr>\n",
              "      <th>2021-12-01 15:00:00</th>\n",
              "      <td>9</td>\n",
              "      <td>2021-12-01</td>\n",
              "    </tr>\n",
              "    <tr>\n",
              "      <th>2021-12-01 15:30:00</th>\n",
              "      <td>11</td>\n",
              "      <td>2021-12-01</td>\n",
              "    </tr>\n",
              "    <tr>\n",
              "      <th>2021-12-01 23:30:00</th>\n",
              "      <td>0</td>\n",
              "      <td>2021-12-01</td>\n",
              "    </tr>\n",
              "    <tr>\n",
              "      <th>2021-12-05 09:30:00</th>\n",
              "      <td>18</td>\n",
              "      <td>2021-12-05</td>\n",
              "    </tr>\n",
              "    <tr>\n",
              "      <th>2021-12-05 10:30:00</th>\n",
              "      <td>15</td>\n",
              "      <td>2021-12-05</td>\n",
              "    </tr>\n",
              "    <tr>\n",
              "      <th>2021-12-05 11:30:00</th>\n",
              "      <td>7</td>\n",
              "      <td>2021-12-05</td>\n",
              "    </tr>\n",
              "    <tr>\n",
              "      <th>2021-12-05 12:30:00</th>\n",
              "      <td>6</td>\n",
              "      <td>2021-12-05</td>\n",
              "    </tr>\n",
              "    <tr>\n",
              "      <th>2021-12-05 13:30:00</th>\n",
              "      <td>9</td>\n",
              "      <td>2021-12-05</td>\n",
              "    </tr>\n",
              "    <tr>\n",
              "      <th>2021-12-05 14:30:00</th>\n",
              "      <td>11</td>\n",
              "      <td>2021-12-05</td>\n",
              "    </tr>\n",
              "    <tr>\n",
              "      <th>2021-12-05 15:30:00</th>\n",
              "      <td>15</td>\n",
              "      <td>2021-12-05</td>\n",
              "    </tr>\n",
              "    <tr>\n",
              "      <th>2021-12-08 18:00:00</th>\n",
              "      <td>33</td>\n",
              "      <td>2021-12-08</td>\n",
              "    </tr>\n",
              "    <tr>\n",
              "      <th>2021-12-08 19:00:00</th>\n",
              "      <td>28</td>\n",
              "      <td>2021-12-08</td>\n",
              "    </tr>\n",
              "    <tr>\n",
              "      <th>2021-12-08 20:00:00</th>\n",
              "      <td>25</td>\n",
              "      <td>2021-12-08</td>\n",
              "    </tr>\n",
              "    <tr>\n",
              "      <th>2021-12-08 21:00:00</th>\n",
              "      <td>21</td>\n",
              "      <td>2021-12-08</td>\n",
              "    </tr>\n",
              "    <tr>\n",
              "      <th>2021-12-08 22:00:00</th>\n",
              "      <td>16</td>\n",
              "      <td>2021-12-08</td>\n",
              "    </tr>\n",
              "    <tr>\n",
              "      <th>2021-12-08 23:00:00</th>\n",
              "      <td>11</td>\n",
              "      <td>2021-12-08</td>\n",
              "    </tr>\n",
              "    <tr>\n",
              "      <th>2021-12-09 00:00:00</th>\n",
              "      <td>4</td>\n",
              "      <td>2021-12-09</td>\n",
              "    </tr>\n",
              "  </tbody>\n",
              "</table>\n",
              "</div>\n",
              "      <button class=\"colab-df-convert\" onclick=\"convertToInteractive('df-f7e297cb-ccad-4cf4-9958-ed9a42198088')\"\n",
              "              title=\"Convert this dataframe to an interactive table.\"\n",
              "              style=\"display:none;\">\n",
              "        \n",
              "  <svg xmlns=\"http://www.w3.org/2000/svg\" height=\"24px\"viewBox=\"0 0 24 24\"\n",
              "       width=\"24px\">\n",
              "    <path d=\"M0 0h24v24H0V0z\" fill=\"none\"/>\n",
              "    <path d=\"M18.56 5.44l.94 2.06.94-2.06 2.06-.94-2.06-.94-.94-2.06-.94 2.06-2.06.94zm-11 1L8.5 8.5l.94-2.06 2.06-.94-2.06-.94L8.5 2.5l-.94 2.06-2.06.94zm10 10l.94 2.06.94-2.06 2.06-.94-2.06-.94-.94-2.06-.94 2.06-2.06.94z\"/><path d=\"M17.41 7.96l-1.37-1.37c-.4-.4-.92-.59-1.43-.59-.52 0-1.04.2-1.43.59L10.3 9.45l-7.72 7.72c-.78.78-.78 2.05 0 2.83L4 21.41c.39.39.9.59 1.41.59.51 0 1.02-.2 1.41-.59l7.78-7.78 2.81-2.81c.8-.78.8-2.07 0-2.86zM5.41 20L4 18.59l7.72-7.72 1.47 1.35L5.41 20z\"/>\n",
              "  </svg>\n",
              "      </button>\n",
              "      \n",
              "  <style>\n",
              "    .colab-df-container {\n",
              "      display:flex;\n",
              "      flex-wrap:wrap;\n",
              "      gap: 12px;\n",
              "    }\n",
              "\n",
              "    .colab-df-convert {\n",
              "      background-color: #E8F0FE;\n",
              "      border: none;\n",
              "      border-radius: 50%;\n",
              "      cursor: pointer;\n",
              "      display: none;\n",
              "      fill: #1967D2;\n",
              "      height: 32px;\n",
              "      padding: 0 0 0 0;\n",
              "      width: 32px;\n",
              "    }\n",
              "\n",
              "    .colab-df-convert:hover {\n",
              "      background-color: #E2EBFA;\n",
              "      box-shadow: 0px 1px 2px rgba(60, 64, 67, 0.3), 0px 1px 3px 1px rgba(60, 64, 67, 0.15);\n",
              "      fill: #174EA6;\n",
              "    }\n",
              "\n",
              "    [theme=dark] .colab-df-convert {\n",
              "      background-color: #3B4455;\n",
              "      fill: #D2E3FC;\n",
              "    }\n",
              "\n",
              "    [theme=dark] .colab-df-convert:hover {\n",
              "      background-color: #434B5C;\n",
              "      box-shadow: 0px 1px 3px 1px rgba(0, 0, 0, 0.15);\n",
              "      filter: drop-shadow(0px 1px 2px rgba(0, 0, 0, 0.3));\n",
              "      fill: #FFFFFF;\n",
              "    }\n",
              "  </style>\n",
              "\n",
              "      <script>\n",
              "        const buttonEl =\n",
              "          document.querySelector('#df-f7e297cb-ccad-4cf4-9958-ed9a42198088 button.colab-df-convert');\n",
              "        buttonEl.style.display =\n",
              "          google.colab.kernel.accessAllowed ? 'block' : 'none';\n",
              "\n",
              "        async function convertToInteractive(key) {\n",
              "          const element = document.querySelector('#df-f7e297cb-ccad-4cf4-9958-ed9a42198088');\n",
              "          const dataTable =\n",
              "            await google.colab.kernel.invokeFunction('convertToInteractive',\n",
              "                                                     [key], {});\n",
              "          if (!dataTable) return;\n",
              "\n",
              "          const docLinkHtml = 'Like what you see? Visit the ' +\n",
              "            '<a target=\"_blank\" href=https://colab.research.google.com/notebooks/data_table.ipynb>data table notebook</a>'\n",
              "            + ' to learn more about interactive tables.';\n",
              "          element.innerHTML = '';\n",
              "          dataTable['output_type'] = 'display_data';\n",
              "          await google.colab.output.renderOutput(dataTable, element);\n",
              "          const docLink = document.createElement('div');\n",
              "          docLink.innerHTML = docLinkHtml;\n",
              "          element.appendChild(docLink);\n",
              "        }\n",
              "      </script>\n",
              "    </div>\n",
              "  </div>\n",
              "  "
            ],
            "text/plain": [
              "                     cars        date\n",
              "datetime                             \n",
              "2021-12-01 05:00:00     5  2021-12-01\n",
              "2021-12-01 05:30:00    12  2021-12-01\n",
              "2021-12-01 06:00:00    14  2021-12-01\n",
              "2021-12-01 06:30:00    15  2021-12-01\n",
              "2021-12-01 07:00:00    25  2021-12-01\n",
              "2021-12-01 07:30:00    46  2021-12-01\n",
              "2021-12-01 08:00:00    42  2021-12-01\n",
              "2021-12-01 15:00:00     9  2021-12-01\n",
              "2021-12-01 15:30:00    11  2021-12-01\n",
              "2021-12-01 23:30:00     0  2021-12-01\n",
              "2021-12-05 09:30:00    18  2021-12-05\n",
              "2021-12-05 10:30:00    15  2021-12-05\n",
              "2021-12-05 11:30:00     7  2021-12-05\n",
              "2021-12-05 12:30:00     6  2021-12-05\n",
              "2021-12-05 13:30:00     9  2021-12-05\n",
              "2021-12-05 14:30:00    11  2021-12-05\n",
              "2021-12-05 15:30:00    15  2021-12-05\n",
              "2021-12-08 18:00:00    33  2021-12-08\n",
              "2021-12-08 19:00:00    28  2021-12-08\n",
              "2021-12-08 20:00:00    25  2021-12-08\n",
              "2021-12-08 21:00:00    21  2021-12-08\n",
              "2021-12-08 22:00:00    16  2021-12-08\n",
              "2021-12-08 23:00:00    11  2021-12-08\n",
              "2021-12-09 00:00:00     4  2021-12-09"
            ]
          },
          "metadata": {},
          "execution_count": 16
        }
      ]
    },
    {
      "cell_type": "code",
      "source": [
        "# A sequence of lines where each line contains a date (in yyyy-mm-dd format) and the number of cars seen on that day (eg. 2016-11-23 289) for all days listed in the input file.\n",
        "df2=df.groupby([\"date\"]).sum()"
      ],
      "metadata": {
        "id": "32Mmn9gOEk9q"
      },
      "execution_count": 17,
      "outputs": []
    },
    {
      "cell_type": "markdown",
      "source": [
        "A sequence of lines where each line contains a date (in yyyy-mm-dd format) and the number of cars seen on that day (eg. 2016-11-23 289) for all days listed in the input file."
      ],
      "metadata": {
        "id": "4Za1KEU9FmhH"
      }
    },
    {
      "cell_type": "code",
      "source": [
        "print(df2)"
      ],
      "metadata": {
        "colab": {
          "base_uri": "https://localhost:8080/"
        },
        "id": "9F_wFJ5QFTgx",
        "outputId": "16d7fc10-1d7d-4fa1-eab7-ba0adade1172"
      },
      "execution_count": 18,
      "outputs": [
        {
          "output_type": "stream",
          "name": "stdout",
          "text": [
            "            cars\n",
            "date            \n",
            "2021-12-01   179\n",
            "2021-12-05    81\n",
            "2021-12-08   134\n",
            "2021-12-09     4\n"
          ]
        }
      ]
    },
    {
      "cell_type": "code",
      "source": [
        "df['tvalue'] = df.index"
      ],
      "metadata": {
        "id": "kzg7St-nIzfQ"
      },
      "execution_count": 26,
      "outputs": []
    },
    {
      "cell_type": "code",
      "source": [
        "# df['delta'] = (df['datetime']-df['datetime'].shift()).fillna(0)\n",
        "# Seconds to minutes conversion:\n",
        "df['dtime'] = df['datetime'].diff()\n",
        "df['delta'] = df['datetime'].diff().dt.seconds.div(60, fill_value=0)\n",
        "df['delta1'] = df['datetime'].diff(-1).dt.seconds.div(60, fill_value=0)"
      ],
      "metadata": {
        "id": "lZ3Jrn4gg_rf"
      },
      "execution_count": 27,
      "outputs": []
    },
    {
      "cell_type": "code",
      "source": [
        "#Timestamp\n",
        "time_period = pd.Timedelta(\"01:30:00\")\n",
        "dif = '0 days 00:30:00'\n",
        "\n",
        "# dif = dif.astype('datetime64[s]')\n",
        "# d = (df.iloc[1]['datetime'] - df.iloc[0]['datetime'])\n",
        "d = (df.iloc[3]['datetime'] - df.iloc[0]['datetime'])\n",
        "\n",
        "if d == df.iloc[1]['dtime']:\n",
        "  print(\"only half hours\") \n",
        "\n",
        "if d == time_period:\n",
        "  print(\"1 and half hours\") \n",
        "\n",
        "LN = len(df['datetime'])\n",
        "\n",
        "period_df = pd.DataFrame(columns=['from_date','to_date','cars_sum'])\n",
        "cars = []\n",
        "from_date = []\n",
        "to_date = []\n",
        "\n",
        "\n",
        "for n in range(1, len(df['datetime'])):\n",
        "  for m in range(0, len(df['datetime'])):\n",
        "    if not (df.iloc[n]['datetime'] - df.iloc[m]['datetime']) > time_period:\n",
        "      #break\n",
        "      if (df.iloc[n]['datetime'] - df.iloc[m]['datetime']) == time_period:\n",
        "        print(\"From function: 1 and half hours\", n, m)\n",
        "        nn = n; mm = m\n",
        "        if not cars == None:\n",
        "          car = 0\n",
        "        for i in range(mm, nn):\n",
        "          car += df.iloc[i]['cars']\n",
        "        cars.append(car)\n",
        "        from_date.append(df.iloc[m]['datetime'])\n",
        "        to_date.append(df.iloc[n]['datetime'])\n",
        "\n",
        "print(\"======The 1.5 hour period with least cars:=======\")\n",
        "for i in range(0, len(cars)):\n",
        "  #period_df.iloc[i]['from_date'] = from_date[i]\n",
        "  #period_df.iloc[i]['to_date'] = to_date[i]\n",
        "  #period_df.iloc[i]['cars_sum'] = cars[i]\n",
        "  print(\"from_date:\", from_date[i], \"to_date:\", to_date[i], \"Cars:\", cars[i])\n",
        "        \n",
        "# print(len(cars))\n",
        "# print(cars[3])\n",
        "print(\"======The 1.5 hour period with least cars:=======\")\n",
        "#print(period_df)\n",
        "\n",
        "    \n",
        "\n",
        "\n",
        "\n",
        "\n",
        " # if (df.iloc[i]['datetime'] - df.iloc[m]['datetime']) < time_period:\n",
        " #   print(\"From function: Smaller\") \n",
        " # if (df.iloc[n]['datetime'] - df.iloc[m]['datetime']) == time_period:\n",
        " #   print(\"From function: 1 and half hours\")\n",
        " # elif (df.iloc[n]['datetime'] - df.iloc[m]['datetime']) > time_period:\n",
        " #   print(\"From function: Greater\")\n",
        "\n",
        "   \n",
        "\n",
        "print(\"LEN:\", LN)\n",
        "print(d)\n",
        "print(df.iloc[1]['datetime'])\n",
        "print(df.iloc[0]['datetime'])\n",
        "\n",
        "print(\"df.iloc[1]['datetime']\")\n",
        "df.iloc[1]['datetime']\n",
        "print(\"td\")\n",
        "print(time_period)\n",
        "# df.info()\n",
        "# df.to = [pd.Timestamp('2014-01-24 13:03:12.050000'), pd.Timestamp('2014-01-27 11:57:18.240000')]"
      ],
      "metadata": {
        "colab": {
          "base_uri": "https://localhost:8080/"
        },
        "id": "yesDsh8RaYF2",
        "outputId": "5f364279-ee9f-4dd0-ec28-4f2bfd565ddf"
      },
      "execution_count": 35,
      "outputs": [
        {
          "output_type": "stream",
          "name": "stdout",
          "text": [
            "1 and half hours\n",
            "From function: 1 and half hours 3 0\n",
            "From function: 1 and half hours 4 1\n",
            "From function: 1 and half hours 5 2\n",
            "From function: 1 and half hours 6 3\n",
            "======The 1.5 hour period with least cars:=======\n",
            "from_date: 2021-12-01 05:00:00 to_date: 2021-12-01 06:30:00 Cars: 31\n",
            "from_date: 2021-12-01 05:30:00 to_date: 2021-12-01 07:00:00 Cars: 41\n",
            "from_date: 2021-12-01 06:00:00 to_date: 2021-12-01 07:30:00 Cars: 54\n",
            "from_date: 2021-12-01 06:30:00 to_date: 2021-12-01 08:00:00 Cars: 86\n",
            "======The 1.5 hour period with least cars:=======\n",
            "LEN: 24\n",
            "0 days 01:30:00\n",
            "2021-12-01 05:30:00\n",
            "2021-12-01 05:00:00\n",
            "df.iloc[1]['datetime']\n",
            "td\n",
            "0 days 01:30:00\n"
          ]
        }
      ]
    },
    {
      "cell_type": "code",
      "source": [
        "print(df)"
      ],
      "metadata": {
        "colab": {
          "base_uri": "https://localhost:8080/"
        },
        "id": "tdaqgSBGfUu1",
        "outputId": "e8a195aa-4490-4548-db68-b7213b80b64a"
      },
      "execution_count": 29,
      "outputs": [
        {
          "output_type": "stream",
          "name": "stdout",
          "text": [
            "              datetime  cars        date  delta  delta1  delta2           dtime\n",
            "0  2021-12-01 05:00:00     5  2021-12-01    0.0  1410.0     0.0             NaT\n",
            "1  2021-12-01 05:30:00    12  2021-12-01   30.0  1410.0    30.0 0 days 00:30:00\n",
            "2  2021-12-01 06:00:00    14  2021-12-01   30.0  1410.0    30.0 0 days 00:30:00\n",
            "3  2021-12-01 06:30:00    15  2021-12-01   30.0  1410.0    30.0 0 days 00:30:00\n",
            "4  2021-12-01 07:00:00    25  2021-12-01   30.0  1410.0    30.0 0 days 00:30:00\n",
            "5  2021-12-01 07:30:00    46  2021-12-01   30.0  1410.0    30.0 0 days 00:30:00\n",
            "6  2021-12-01 08:00:00    42  2021-12-01   30.0  1020.0    30.0 0 days 00:30:00\n",
            "7  2021-12-01 15:00:00     9  2021-12-01  420.0  1410.0   420.0 0 days 07:00:00\n",
            "8  2021-12-01 15:30:00    11  2021-12-01   30.0   960.0    30.0 0 days 00:30:00\n",
            "9  2021-12-01 23:30:00     0  2021-12-01  480.0   840.0   480.0 0 days 08:00:00\n",
            "10 2021-12-05 09:30:00    18  2021-12-05  600.0  1380.0   600.0 3 days 10:00:00\n",
            "11 2021-12-05 10:30:00    15  2021-12-05   60.0  1380.0    60.0 0 days 01:00:00\n",
            "12 2021-12-05 11:30:00     7  2021-12-05   60.0  1380.0    60.0 0 days 01:00:00\n",
            "13 2021-12-05 12:30:00     6  2021-12-05   60.0  1380.0    60.0 0 days 01:00:00\n",
            "14 2021-12-05 13:30:00     9  2021-12-05   60.0  1380.0    60.0 0 days 01:00:00\n",
            "15 2021-12-05 14:30:00    11  2021-12-05   60.0  1380.0    60.0 0 days 01:00:00\n",
            "16 2021-12-05 15:30:00    15  2021-12-05   60.0  1290.0    60.0 0 days 01:00:00\n",
            "17 2021-12-08 18:00:00    33  2021-12-08  150.0  1380.0   150.0 3 days 02:30:00\n",
            "18 2021-12-08 19:00:00    28  2021-12-08   60.0  1380.0    60.0 0 days 01:00:00\n",
            "19 2021-12-08 20:00:00    25  2021-12-08   60.0  1380.0    60.0 0 days 01:00:00\n",
            "20 2021-12-08 21:00:00    21  2021-12-08   60.0  1380.0    60.0 0 days 01:00:00\n",
            "21 2021-12-08 22:00:00    16  2021-12-08   60.0  1380.0    60.0 0 days 01:00:00\n",
            "22 2021-12-08 23:00:00    11  2021-12-08   60.0  1380.0    60.0 0 days 01:00:00\n",
            "23 2021-12-09 00:00:00     4  2021-12-09   60.0     0.0    60.0 0 days 01:00:00\n"
          ]
        }
      ]
    },
    {
      "cell_type": "code",
      "source": [
        "df.diff()"
      ],
      "metadata": {
        "colab": {
          "base_uri": "https://localhost:8080/",
          "height": 802
        },
        "id": "kGUHNXswYAjg",
        "outputId": "6040bfc8-0a4c-430d-c092-20ec155af523"
      },
      "execution_count": 26,
      "outputs": [
        {
          "output_type": "execute_result",
          "data": {
            "text/html": [
              "\n",
              "  <div id=\"df-89f8c33c-eac8-4bb4-bfd7-e02223ce4bf1\">\n",
              "    <div class=\"colab-df-container\">\n",
              "      <div>\n",
              "<style scoped>\n",
              "    .dataframe tbody tr th:only-of-type {\n",
              "        vertical-align: middle;\n",
              "    }\n",
              "\n",
              "    .dataframe tbody tr th {\n",
              "        vertical-align: top;\n",
              "    }\n",
              "\n",
              "    .dataframe thead th {\n",
              "        text-align: right;\n",
              "    }\n",
              "</style>\n",
              "<table border=\"1\" class=\"dataframe\">\n",
              "  <thead>\n",
              "    <tr style=\"text-align: right;\">\n",
              "      <th></th>\n",
              "      <th>datetime</th>\n",
              "      <th>cars</th>\n",
              "      <th>date</th>\n",
              "      <th>delta</th>\n",
              "      <th>delta1</th>\n",
              "      <th>delta2</th>\n",
              "    </tr>\n",
              "  </thead>\n",
              "  <tbody>\n",
              "    <tr>\n",
              "      <th>0</th>\n",
              "      <td>NaT</td>\n",
              "      <td>NaN</td>\n",
              "      <td>NaN</td>\n",
              "      <td>NaN</td>\n",
              "      <td>NaN</td>\n",
              "      <td>NaN</td>\n",
              "    </tr>\n",
              "    <tr>\n",
              "      <th>1</th>\n",
              "      <td>0 days 00:30:00</td>\n",
              "      <td>7.0</td>\n",
              "      <td>0:00:00</td>\n",
              "      <td>30.0</td>\n",
              "      <td>0.0</td>\n",
              "      <td>30.0</td>\n",
              "    </tr>\n",
              "    <tr>\n",
              "      <th>2</th>\n",
              "      <td>0 days 00:30:00</td>\n",
              "      <td>2.0</td>\n",
              "      <td>0:00:00</td>\n",
              "      <td>0.0</td>\n",
              "      <td>0.0</td>\n",
              "      <td>0.0</td>\n",
              "    </tr>\n",
              "    <tr>\n",
              "      <th>3</th>\n",
              "      <td>0 days 00:30:00</td>\n",
              "      <td>1.0</td>\n",
              "      <td>0:00:00</td>\n",
              "      <td>0.0</td>\n",
              "      <td>0.0</td>\n",
              "      <td>0.0</td>\n",
              "    </tr>\n",
              "    <tr>\n",
              "      <th>4</th>\n",
              "      <td>0 days 00:30:00</td>\n",
              "      <td>10.0</td>\n",
              "      <td>0:00:00</td>\n",
              "      <td>0.0</td>\n",
              "      <td>0.0</td>\n",
              "      <td>0.0</td>\n",
              "    </tr>\n",
              "    <tr>\n",
              "      <th>5</th>\n",
              "      <td>0 days 00:30:00</td>\n",
              "      <td>21.0</td>\n",
              "      <td>0:00:00</td>\n",
              "      <td>0.0</td>\n",
              "      <td>0.0</td>\n",
              "      <td>0.0</td>\n",
              "    </tr>\n",
              "    <tr>\n",
              "      <th>6</th>\n",
              "      <td>0 days 00:30:00</td>\n",
              "      <td>-4.0</td>\n",
              "      <td>0:00:00</td>\n",
              "      <td>0.0</td>\n",
              "      <td>-390.0</td>\n",
              "      <td>0.0</td>\n",
              "    </tr>\n",
              "    <tr>\n",
              "      <th>7</th>\n",
              "      <td>0 days 07:00:00</td>\n",
              "      <td>-33.0</td>\n",
              "      <td>0:00:00</td>\n",
              "      <td>390.0</td>\n",
              "      <td>390.0</td>\n",
              "      <td>390.0</td>\n",
              "    </tr>\n",
              "    <tr>\n",
              "      <th>8</th>\n",
              "      <td>0 days 00:30:00</td>\n",
              "      <td>2.0</td>\n",
              "      <td>0:00:00</td>\n",
              "      <td>-390.0</td>\n",
              "      <td>-450.0</td>\n",
              "      <td>-390.0</td>\n",
              "    </tr>\n",
              "    <tr>\n",
              "      <th>9</th>\n",
              "      <td>0 days 08:00:00</td>\n",
              "      <td>-11.0</td>\n",
              "      <td>0:00:00</td>\n",
              "      <td>450.0</td>\n",
              "      <td>-120.0</td>\n",
              "      <td>450.0</td>\n",
              "    </tr>\n",
              "    <tr>\n",
              "      <th>10</th>\n",
              "      <td>3 days 10:00:00</td>\n",
              "      <td>18.0</td>\n",
              "      <td>4 days, 0:00:00</td>\n",
              "      <td>120.0</td>\n",
              "      <td>540.0</td>\n",
              "      <td>120.0</td>\n",
              "    </tr>\n",
              "    <tr>\n",
              "      <th>11</th>\n",
              "      <td>0 days 01:00:00</td>\n",
              "      <td>-3.0</td>\n",
              "      <td>0:00:00</td>\n",
              "      <td>-540.0</td>\n",
              "      <td>0.0</td>\n",
              "      <td>-540.0</td>\n",
              "    </tr>\n",
              "    <tr>\n",
              "      <th>12</th>\n",
              "      <td>0 days 01:00:00</td>\n",
              "      <td>-8.0</td>\n",
              "      <td>0:00:00</td>\n",
              "      <td>0.0</td>\n",
              "      <td>0.0</td>\n",
              "      <td>0.0</td>\n",
              "    </tr>\n",
              "    <tr>\n",
              "      <th>13</th>\n",
              "      <td>0 days 01:00:00</td>\n",
              "      <td>-1.0</td>\n",
              "      <td>0:00:00</td>\n",
              "      <td>0.0</td>\n",
              "      <td>0.0</td>\n",
              "      <td>0.0</td>\n",
              "    </tr>\n",
              "    <tr>\n",
              "      <th>14</th>\n",
              "      <td>0 days 01:00:00</td>\n",
              "      <td>3.0</td>\n",
              "      <td>0:00:00</td>\n",
              "      <td>0.0</td>\n",
              "      <td>0.0</td>\n",
              "      <td>0.0</td>\n",
              "    </tr>\n",
              "    <tr>\n",
              "      <th>15</th>\n",
              "      <td>0 days 01:00:00</td>\n",
              "      <td>2.0</td>\n",
              "      <td>0:00:00</td>\n",
              "      <td>0.0</td>\n",
              "      <td>0.0</td>\n",
              "      <td>0.0</td>\n",
              "    </tr>\n",
              "    <tr>\n",
              "      <th>16</th>\n",
              "      <td>0 days 01:00:00</td>\n",
              "      <td>4.0</td>\n",
              "      <td>0:00:00</td>\n",
              "      <td>0.0</td>\n",
              "      <td>-90.0</td>\n",
              "      <td>0.0</td>\n",
              "    </tr>\n",
              "    <tr>\n",
              "      <th>17</th>\n",
              "      <td>3 days 02:30:00</td>\n",
              "      <td>18.0</td>\n",
              "      <td>3 days, 0:00:00</td>\n",
              "      <td>90.0</td>\n",
              "      <td>90.0</td>\n",
              "      <td>90.0</td>\n",
              "    </tr>\n",
              "    <tr>\n",
              "      <th>18</th>\n",
              "      <td>0 days 01:00:00</td>\n",
              "      <td>-5.0</td>\n",
              "      <td>0:00:00</td>\n",
              "      <td>-90.0</td>\n",
              "      <td>0.0</td>\n",
              "      <td>-90.0</td>\n",
              "    </tr>\n",
              "    <tr>\n",
              "      <th>19</th>\n",
              "      <td>0 days 01:00:00</td>\n",
              "      <td>-3.0</td>\n",
              "      <td>0:00:00</td>\n",
              "      <td>0.0</td>\n",
              "      <td>0.0</td>\n",
              "      <td>0.0</td>\n",
              "    </tr>\n",
              "    <tr>\n",
              "      <th>20</th>\n",
              "      <td>0 days 01:00:00</td>\n",
              "      <td>-4.0</td>\n",
              "      <td>0:00:00</td>\n",
              "      <td>0.0</td>\n",
              "      <td>0.0</td>\n",
              "      <td>0.0</td>\n",
              "    </tr>\n",
              "    <tr>\n",
              "      <th>21</th>\n",
              "      <td>0 days 01:00:00</td>\n",
              "      <td>-5.0</td>\n",
              "      <td>0:00:00</td>\n",
              "      <td>0.0</td>\n",
              "      <td>0.0</td>\n",
              "      <td>0.0</td>\n",
              "    </tr>\n",
              "    <tr>\n",
              "      <th>22</th>\n",
              "      <td>0 days 01:00:00</td>\n",
              "      <td>-5.0</td>\n",
              "      <td>0:00:00</td>\n",
              "      <td>0.0</td>\n",
              "      <td>0.0</td>\n",
              "      <td>0.0</td>\n",
              "    </tr>\n",
              "    <tr>\n",
              "      <th>23</th>\n",
              "      <td>0 days 01:00:00</td>\n",
              "      <td>-7.0</td>\n",
              "      <td>1 day, 0:00:00</td>\n",
              "      <td>0.0</td>\n",
              "      <td>-1380.0</td>\n",
              "      <td>0.0</td>\n",
              "    </tr>\n",
              "  </tbody>\n",
              "</table>\n",
              "</div>\n",
              "      <button class=\"colab-df-convert\" onclick=\"convertToInteractive('df-89f8c33c-eac8-4bb4-bfd7-e02223ce4bf1')\"\n",
              "              title=\"Convert this dataframe to an interactive table.\"\n",
              "              style=\"display:none;\">\n",
              "        \n",
              "  <svg xmlns=\"http://www.w3.org/2000/svg\" height=\"24px\"viewBox=\"0 0 24 24\"\n",
              "       width=\"24px\">\n",
              "    <path d=\"M0 0h24v24H0V0z\" fill=\"none\"/>\n",
              "    <path d=\"M18.56 5.44l.94 2.06.94-2.06 2.06-.94-2.06-.94-.94-2.06-.94 2.06-2.06.94zm-11 1L8.5 8.5l.94-2.06 2.06-.94-2.06-.94L8.5 2.5l-.94 2.06-2.06.94zm10 10l.94 2.06.94-2.06 2.06-.94-2.06-.94-.94-2.06-.94 2.06-2.06.94z\"/><path d=\"M17.41 7.96l-1.37-1.37c-.4-.4-.92-.59-1.43-.59-.52 0-1.04.2-1.43.59L10.3 9.45l-7.72 7.72c-.78.78-.78 2.05 0 2.83L4 21.41c.39.39.9.59 1.41.59.51 0 1.02-.2 1.41-.59l7.78-7.78 2.81-2.81c.8-.78.8-2.07 0-2.86zM5.41 20L4 18.59l7.72-7.72 1.47 1.35L5.41 20z\"/>\n",
              "  </svg>\n",
              "      </button>\n",
              "      \n",
              "  <style>\n",
              "    .colab-df-container {\n",
              "      display:flex;\n",
              "      flex-wrap:wrap;\n",
              "      gap: 12px;\n",
              "    }\n",
              "\n",
              "    .colab-df-convert {\n",
              "      background-color: #E8F0FE;\n",
              "      border: none;\n",
              "      border-radius: 50%;\n",
              "      cursor: pointer;\n",
              "      display: none;\n",
              "      fill: #1967D2;\n",
              "      height: 32px;\n",
              "      padding: 0 0 0 0;\n",
              "      width: 32px;\n",
              "    }\n",
              "\n",
              "    .colab-df-convert:hover {\n",
              "      background-color: #E2EBFA;\n",
              "      box-shadow: 0px 1px 2px rgba(60, 64, 67, 0.3), 0px 1px 3px 1px rgba(60, 64, 67, 0.15);\n",
              "      fill: #174EA6;\n",
              "    }\n",
              "\n",
              "    [theme=dark] .colab-df-convert {\n",
              "      background-color: #3B4455;\n",
              "      fill: #D2E3FC;\n",
              "    }\n",
              "\n",
              "    [theme=dark] .colab-df-convert:hover {\n",
              "      background-color: #434B5C;\n",
              "      box-shadow: 0px 1px 3px 1px rgba(0, 0, 0, 0.15);\n",
              "      filter: drop-shadow(0px 1px 2px rgba(0, 0, 0, 0.3));\n",
              "      fill: #FFFFFF;\n",
              "    }\n",
              "  </style>\n",
              "\n",
              "      <script>\n",
              "        const buttonEl =\n",
              "          document.querySelector('#df-89f8c33c-eac8-4bb4-bfd7-e02223ce4bf1 button.colab-df-convert');\n",
              "        buttonEl.style.display =\n",
              "          google.colab.kernel.accessAllowed ? 'block' : 'none';\n",
              "\n",
              "        async function convertToInteractive(key) {\n",
              "          const element = document.querySelector('#df-89f8c33c-eac8-4bb4-bfd7-e02223ce4bf1');\n",
              "          const dataTable =\n",
              "            await google.colab.kernel.invokeFunction('convertToInteractive',\n",
              "                                                     [key], {});\n",
              "          if (!dataTable) return;\n",
              "\n",
              "          const docLinkHtml = 'Like what you see? Visit the ' +\n",
              "            '<a target=\"_blank\" href=https://colab.research.google.com/notebooks/data_table.ipynb>data table notebook</a>'\n",
              "            + ' to learn more about interactive tables.';\n",
              "          element.innerHTML = '';\n",
              "          dataTable['output_type'] = 'display_data';\n",
              "          await google.colab.output.renderOutput(dataTable, element);\n",
              "          const docLink = document.createElement('div');\n",
              "          docLink.innerHTML = docLinkHtml;\n",
              "          element.appendChild(docLink);\n",
              "        }\n",
              "      </script>\n",
              "    </div>\n",
              "  </div>\n",
              "  "
            ],
            "text/plain": [
              "          datetime  cars             date  delta  delta1  delta2\n",
              "0              NaT   NaN              NaN    NaN     NaN     NaN\n",
              "1  0 days 00:30:00   7.0          0:00:00   30.0     0.0    30.0\n",
              "2  0 days 00:30:00   2.0          0:00:00    0.0     0.0     0.0\n",
              "3  0 days 00:30:00   1.0          0:00:00    0.0     0.0     0.0\n",
              "4  0 days 00:30:00  10.0          0:00:00    0.0     0.0     0.0\n",
              "5  0 days 00:30:00  21.0          0:00:00    0.0     0.0     0.0\n",
              "6  0 days 00:30:00  -4.0          0:00:00    0.0  -390.0     0.0\n",
              "7  0 days 07:00:00 -33.0          0:00:00  390.0   390.0   390.0\n",
              "8  0 days 00:30:00   2.0          0:00:00 -390.0  -450.0  -390.0\n",
              "9  0 days 08:00:00 -11.0          0:00:00  450.0  -120.0   450.0\n",
              "10 3 days 10:00:00  18.0  4 days, 0:00:00  120.0   540.0   120.0\n",
              "11 0 days 01:00:00  -3.0          0:00:00 -540.0     0.0  -540.0\n",
              "12 0 days 01:00:00  -8.0          0:00:00    0.0     0.0     0.0\n",
              "13 0 days 01:00:00  -1.0          0:00:00    0.0     0.0     0.0\n",
              "14 0 days 01:00:00   3.0          0:00:00    0.0     0.0     0.0\n",
              "15 0 days 01:00:00   2.0          0:00:00    0.0     0.0     0.0\n",
              "16 0 days 01:00:00   4.0          0:00:00    0.0   -90.0     0.0\n",
              "17 3 days 02:30:00  18.0  3 days, 0:00:00   90.0    90.0    90.0\n",
              "18 0 days 01:00:00  -5.0          0:00:00  -90.0     0.0   -90.0\n",
              "19 0 days 01:00:00  -3.0          0:00:00    0.0     0.0     0.0\n",
              "20 0 days 01:00:00  -4.0          0:00:00    0.0     0.0     0.0\n",
              "21 0 days 01:00:00  -5.0          0:00:00    0.0     0.0     0.0\n",
              "22 0 days 01:00:00  -5.0          0:00:00    0.0     0.0     0.0\n",
              "23 0 days 01:00:00  -7.0   1 day, 0:00:00    0.0 -1380.0     0.0"
            ]
          },
          "metadata": {},
          "execution_count": 26
        }
      ]
    },
    {
      "cell_type": "code",
      "source": [
        "df[\"month\"] = df[\"datetime\"].dt.month\n",
        "print(df)"
      ],
      "metadata": {
        "colab": {
          "base_uri": "https://localhost:8080/"
        },
        "id": "vamzliCO6IwG",
        "outputId": "e3a45af4-085a-49b1-f8dc-b152a7a7caf5"
      },
      "execution_count": 47,
      "outputs": [
        {
          "output_type": "stream",
          "name": "stdout",
          "text": [
            "              datetime  cars        date  tvalue  delta  month\n",
            "0  2021-12-01 05:00:00     5  2021-12-01       0    0.0     12\n",
            "1  2021-12-01 05:30:00    12  2021-12-01       1   30.0     12\n",
            "2  2021-12-01 06:00:00    14  2021-12-01       2   30.0     12\n",
            "3  2021-12-01 06:30:00    15  2021-12-01       3   30.0     12\n",
            "4  2021-12-01 07:00:00    25  2021-12-01       4   30.0     12\n",
            "5  2021-12-01 07:30:00    46  2021-12-01       5   30.0     12\n",
            "6  2021-12-01 08:00:00    42  2021-12-01       6   30.0     12\n",
            "7  2021-12-01 15:00:00     9  2021-12-01       7  420.0     12\n",
            "8  2021-12-01 15:30:00    11  2021-12-01       8   30.0     12\n",
            "9  2021-12-01 23:30:00     0  2021-12-01       9  480.0     12\n",
            "10 2021-12-05 09:30:00    18  2021-12-05      10  600.0     12\n",
            "11 2021-12-05 10:30:00    15  2021-12-05      11   60.0     12\n",
            "12 2021-12-05 11:30:00     7  2021-12-05      12   60.0     12\n",
            "13 2021-12-05 12:30:00     6  2021-12-05      13   60.0     12\n",
            "14 2021-12-05 13:30:00     9  2021-12-05      14   60.0     12\n",
            "15 2021-12-05 14:30:00    11  2021-12-05      15   60.0     12\n",
            "16 2021-12-05 15:30:00    15  2021-12-05      16   60.0     12\n",
            "17 2021-12-08 18:00:00    33  2021-12-08      17  150.0     12\n",
            "18 2021-12-08 19:00:00    28  2021-12-08      18   60.0     12\n",
            "19 2021-12-08 20:00:00    25  2021-12-08      19   60.0     12\n",
            "20 2021-12-08 21:00:00    21  2021-12-08      20   60.0     12\n",
            "21 2021-12-08 22:00:00    16  2021-12-08      21   60.0     12\n",
            "22 2021-12-08 23:00:00    11  2021-12-08      22   60.0     12\n",
            "23 2021-12-09 00:00:00     4  2021-12-09      23   60.0     12\n"
          ]
        }
      ]
    },
    {
      "cell_type": "code",
      "source": [
        "df[\"hour\"] = df[\"datetime\"].dt.hour\n",
        "print(df)"
      ],
      "metadata": {
        "colab": {
          "base_uri": "https://localhost:8080/"
        },
        "id": "oQ3F5A5K6YuP",
        "outputId": "e6c35c4b-6972-4814-8c06-5290deeaa1cf"
      },
      "execution_count": 48,
      "outputs": [
        {
          "output_type": "stream",
          "name": "stdout",
          "text": [
            "              datetime  cars        date  tvalue  delta  month  hour\n",
            "0  2021-12-01 05:00:00     5  2021-12-01       0    0.0     12     5\n",
            "1  2021-12-01 05:30:00    12  2021-12-01       1   30.0     12     5\n",
            "2  2021-12-01 06:00:00    14  2021-12-01       2   30.0     12     6\n",
            "3  2021-12-01 06:30:00    15  2021-12-01       3   30.0     12     6\n",
            "4  2021-12-01 07:00:00    25  2021-12-01       4   30.0     12     7\n",
            "5  2021-12-01 07:30:00    46  2021-12-01       5   30.0     12     7\n",
            "6  2021-12-01 08:00:00    42  2021-12-01       6   30.0     12     8\n",
            "7  2021-12-01 15:00:00     9  2021-12-01       7  420.0     12    15\n",
            "8  2021-12-01 15:30:00    11  2021-12-01       8   30.0     12    15\n",
            "9  2021-12-01 23:30:00     0  2021-12-01       9  480.0     12    23\n",
            "10 2021-12-05 09:30:00    18  2021-12-05      10  600.0     12     9\n",
            "11 2021-12-05 10:30:00    15  2021-12-05      11   60.0     12    10\n",
            "12 2021-12-05 11:30:00     7  2021-12-05      12   60.0     12    11\n",
            "13 2021-12-05 12:30:00     6  2021-12-05      13   60.0     12    12\n",
            "14 2021-12-05 13:30:00     9  2021-12-05      14   60.0     12    13\n",
            "15 2021-12-05 14:30:00    11  2021-12-05      15   60.0     12    14\n",
            "16 2021-12-05 15:30:00    15  2021-12-05      16   60.0     12    15\n",
            "17 2021-12-08 18:00:00    33  2021-12-08      17  150.0     12    18\n",
            "18 2021-12-08 19:00:00    28  2021-12-08      18   60.0     12    19\n",
            "19 2021-12-08 20:00:00    25  2021-12-08      19   60.0     12    20\n",
            "20 2021-12-08 21:00:00    21  2021-12-08      20   60.0     12    21\n",
            "21 2021-12-08 22:00:00    16  2021-12-08      21   60.0     12    22\n",
            "22 2021-12-08 23:00:00    11  2021-12-08      22   60.0     12    23\n",
            "23 2021-12-09 00:00:00     4  2021-12-09      23   60.0     12     0\n"
          ]
        }
      ]
    },
    {
      "cell_type": "code",
      "source": [
        "# df_15hour = df.groupby(pd.Grouper(freq='90Min', base=0, label='right')).first()\n",
        "# same thing using resample - df.resample('60Min', base=30, label='right').first()\n",
        "# df_15hour = df.resample(freq=\"90Min\")"
      ],
      "metadata": {
        "id": "NZzo9tRL7r8b"
      },
      "execution_count": 1,
      "outputs": []
    },
    {
      "cell_type": "code",
      "source": [
        ""
      ],
      "metadata": {
        "id": "TRR3bgrX6Sxs"
      },
      "execution_count": null,
      "outputs": []
    },
    {
      "cell_type": "code",
      "source": [
        "df3=df.groupby([\"delta\"])"
      ],
      "metadata": {
        "id": "HS1Fy6EkErSX"
      },
      "execution_count": 24,
      "outputs": []
    },
    {
      "cell_type": "code",
      "source": [
        "# group by Team, get mean, min, and max value of Age for each value of Team.\n",
        "df4 = df.groupby('date').agg({'cars': ['sum']})\n"
      ],
      "metadata": {
        "id": "Ki6jGTlylf9i"
      },
      "execution_count": 26,
      "outputs": []
    },
    {
      "cell_type": "code",
      "source": [
        "print(df4)"
      ],
      "metadata": {
        "colab": {
          "base_uri": "https://localhost:8080/"
        },
        "id": "OAy9CRsfk4ae",
        "outputId": "46b6a93e-8b81-460f-c036-d019c5012e7c"
      },
      "execution_count": 28,
      "outputs": [
        {
          "output_type": "stream",
          "name": "stdout",
          "text": [
            "           cars\n",
            "            sum\n",
            "date           \n",
            "2021-12-01  179\n",
            "2021-12-05   81\n",
            "2021-12-08  134\n",
            "2021-12-09    4\n"
          ]
        }
      ]
    },
    {
      "cell_type": "code",
      "source": [
        "# df5 = df.groupby([\"delta\"]).get_group(\"30.0\")\n",
        "df5 = df.groupby([\"delta\"])\n",
        "print(df5)"
      ],
      "metadata": {
        "colab": {
          "base_uri": "https://localhost:8080/"
        },
        "id": "wBadMyftuX3f",
        "outputId": "05e2d8a1-8360-40b9-b5de-cd0ebdfc3dbf"
      },
      "execution_count": 32,
      "outputs": [
        {
          "output_type": "stream",
          "name": "stdout",
          "text": [
            "<pandas.core.groupby.generic.DataFrameGroupBy object at 0x7f6e8203a4d0>\n"
          ]
        }
      ]
    },
    {
      "cell_type": "code",
      "source": [
        "for name, group in df5:\n",
        "    print(name)\n",
        "    print(group)"
      ],
      "metadata": {
        "colab": {
          "base_uri": "https://localhost:8080/"
        },
        "id": "YAgCl5i0wdel",
        "outputId": "05b5fb89-8aa3-4f63-bc36-cd62f3659b3a"
      },
      "execution_count": 38,
      "outputs": [
        {
          "output_type": "stream",
          "name": "stdout",
          "text": [
            "0.0\n",
            "             datetime  cars        date  tvalue  delta\n",
            "0 2021-12-01 05:00:00     5  2021-12-01       0    0.0\n",
            "30.0\n",
            "             datetime  cars        date  tvalue  delta\n",
            "1 2021-12-01 05:30:00    12  2021-12-01       1   30.0\n",
            "2 2021-12-01 06:00:00    14  2021-12-01       2   30.0\n",
            "3 2021-12-01 06:30:00    15  2021-12-01       3   30.0\n",
            "4 2021-12-01 07:00:00    25  2021-12-01       4   30.0\n",
            "5 2021-12-01 07:30:00    46  2021-12-01       5   30.0\n",
            "6 2021-12-01 08:00:00    42  2021-12-01       6   30.0\n",
            "8 2021-12-01 15:30:00    11  2021-12-01       8   30.0\n",
            "60.0\n",
            "              datetime  cars        date  tvalue  delta\n",
            "11 2021-12-05 10:30:00    15  2021-12-05      11   60.0\n",
            "12 2021-12-05 11:30:00     7  2021-12-05      12   60.0\n",
            "13 2021-12-05 12:30:00     6  2021-12-05      13   60.0\n",
            "14 2021-12-05 13:30:00     9  2021-12-05      14   60.0\n",
            "15 2021-12-05 14:30:00    11  2021-12-05      15   60.0\n",
            "16 2021-12-05 15:30:00    15  2021-12-05      16   60.0\n",
            "18 2021-12-08 19:00:00    28  2021-12-08      18   60.0\n",
            "19 2021-12-08 20:00:00    25  2021-12-08      19   60.0\n",
            "20 2021-12-08 21:00:00    21  2021-12-08      20   60.0\n",
            "21 2021-12-08 22:00:00    16  2021-12-08      21   60.0\n",
            "22 2021-12-08 23:00:00    11  2021-12-08      22   60.0\n",
            "23 2021-12-09 00:00:00     4  2021-12-09      23   60.0\n",
            "150.0\n",
            "              datetime  cars        date  tvalue  delta\n",
            "17 2021-12-08 18:00:00    33  2021-12-08      17  150.0\n",
            "420.0\n",
            "             datetime  cars        date  tvalue  delta\n",
            "7 2021-12-01 15:00:00     9  2021-12-01       7  420.0\n",
            "480.0\n",
            "             datetime  cars        date  tvalue  delta\n",
            "9 2021-12-01 23:30:00     0  2021-12-01       9  480.0\n",
            "600.0\n",
            "              datetime  cars        date  tvalue  delta\n",
            "10 2021-12-05 09:30:00    18  2021-12-05      10  600.0\n"
          ]
        }
      ]
    },
    {
      "cell_type": "code",
      "source": [
        "df_30m = df5.get_group(30.0)\n",
        "df_30m"
      ],
      "metadata": {
        "colab": {
          "base_uri": "https://localhost:8080/",
          "height": 269
        },
        "id": "Irq7EXUfw-Dk",
        "outputId": "d8f4c607-7d0c-4f47-90c0-7a05d871eabb"
      },
      "execution_count": 41,
      "outputs": [
        {
          "output_type": "execute_result",
          "data": {
            "text/html": [
              "\n",
              "  <div id=\"df-d5d4eef6-bb4c-4033-b6f6-9b9d50a9ebe4\">\n",
              "    <div class=\"colab-df-container\">\n",
              "      <div>\n",
              "<style scoped>\n",
              "    .dataframe tbody tr th:only-of-type {\n",
              "        vertical-align: middle;\n",
              "    }\n",
              "\n",
              "    .dataframe tbody tr th {\n",
              "        vertical-align: top;\n",
              "    }\n",
              "\n",
              "    .dataframe thead th {\n",
              "        text-align: right;\n",
              "    }\n",
              "</style>\n",
              "<table border=\"1\" class=\"dataframe\">\n",
              "  <thead>\n",
              "    <tr style=\"text-align: right;\">\n",
              "      <th></th>\n",
              "      <th>datetime</th>\n",
              "      <th>cars</th>\n",
              "      <th>date</th>\n",
              "      <th>tvalue</th>\n",
              "      <th>delta</th>\n",
              "    </tr>\n",
              "  </thead>\n",
              "  <tbody>\n",
              "    <tr>\n",
              "      <th>1</th>\n",
              "      <td>2021-12-01 05:30:00</td>\n",
              "      <td>12</td>\n",
              "      <td>2021-12-01</td>\n",
              "      <td>1</td>\n",
              "      <td>30.0</td>\n",
              "    </tr>\n",
              "    <tr>\n",
              "      <th>2</th>\n",
              "      <td>2021-12-01 06:00:00</td>\n",
              "      <td>14</td>\n",
              "      <td>2021-12-01</td>\n",
              "      <td>2</td>\n",
              "      <td>30.0</td>\n",
              "    </tr>\n",
              "    <tr>\n",
              "      <th>3</th>\n",
              "      <td>2021-12-01 06:30:00</td>\n",
              "      <td>15</td>\n",
              "      <td>2021-12-01</td>\n",
              "      <td>3</td>\n",
              "      <td>30.0</td>\n",
              "    </tr>\n",
              "    <tr>\n",
              "      <th>4</th>\n",
              "      <td>2021-12-01 07:00:00</td>\n",
              "      <td>25</td>\n",
              "      <td>2021-12-01</td>\n",
              "      <td>4</td>\n",
              "      <td>30.0</td>\n",
              "    </tr>\n",
              "    <tr>\n",
              "      <th>5</th>\n",
              "      <td>2021-12-01 07:30:00</td>\n",
              "      <td>46</td>\n",
              "      <td>2021-12-01</td>\n",
              "      <td>5</td>\n",
              "      <td>30.0</td>\n",
              "    </tr>\n",
              "    <tr>\n",
              "      <th>6</th>\n",
              "      <td>2021-12-01 08:00:00</td>\n",
              "      <td>42</td>\n",
              "      <td>2021-12-01</td>\n",
              "      <td>6</td>\n",
              "      <td>30.0</td>\n",
              "    </tr>\n",
              "    <tr>\n",
              "      <th>8</th>\n",
              "      <td>2021-12-01 15:30:00</td>\n",
              "      <td>11</td>\n",
              "      <td>2021-12-01</td>\n",
              "      <td>8</td>\n",
              "      <td>30.0</td>\n",
              "    </tr>\n",
              "  </tbody>\n",
              "</table>\n",
              "</div>\n",
              "      <button class=\"colab-df-convert\" onclick=\"convertToInteractive('df-d5d4eef6-bb4c-4033-b6f6-9b9d50a9ebe4')\"\n",
              "              title=\"Convert this dataframe to an interactive table.\"\n",
              "              style=\"display:none;\">\n",
              "        \n",
              "  <svg xmlns=\"http://www.w3.org/2000/svg\" height=\"24px\"viewBox=\"0 0 24 24\"\n",
              "       width=\"24px\">\n",
              "    <path d=\"M0 0h24v24H0V0z\" fill=\"none\"/>\n",
              "    <path d=\"M18.56 5.44l.94 2.06.94-2.06 2.06-.94-2.06-.94-.94-2.06-.94 2.06-2.06.94zm-11 1L8.5 8.5l.94-2.06 2.06-.94-2.06-.94L8.5 2.5l-.94 2.06-2.06.94zm10 10l.94 2.06.94-2.06 2.06-.94-2.06-.94-.94-2.06-.94 2.06-2.06.94z\"/><path d=\"M17.41 7.96l-1.37-1.37c-.4-.4-.92-.59-1.43-.59-.52 0-1.04.2-1.43.59L10.3 9.45l-7.72 7.72c-.78.78-.78 2.05 0 2.83L4 21.41c.39.39.9.59 1.41.59.51 0 1.02-.2 1.41-.59l7.78-7.78 2.81-2.81c.8-.78.8-2.07 0-2.86zM5.41 20L4 18.59l7.72-7.72 1.47 1.35L5.41 20z\"/>\n",
              "  </svg>\n",
              "      </button>\n",
              "      \n",
              "  <style>\n",
              "    .colab-df-container {\n",
              "      display:flex;\n",
              "      flex-wrap:wrap;\n",
              "      gap: 12px;\n",
              "    }\n",
              "\n",
              "    .colab-df-convert {\n",
              "      background-color: #E8F0FE;\n",
              "      border: none;\n",
              "      border-radius: 50%;\n",
              "      cursor: pointer;\n",
              "      display: none;\n",
              "      fill: #1967D2;\n",
              "      height: 32px;\n",
              "      padding: 0 0 0 0;\n",
              "      width: 32px;\n",
              "    }\n",
              "\n",
              "    .colab-df-convert:hover {\n",
              "      background-color: #E2EBFA;\n",
              "      box-shadow: 0px 1px 2px rgba(60, 64, 67, 0.3), 0px 1px 3px 1px rgba(60, 64, 67, 0.15);\n",
              "      fill: #174EA6;\n",
              "    }\n",
              "\n",
              "    [theme=dark] .colab-df-convert {\n",
              "      background-color: #3B4455;\n",
              "      fill: #D2E3FC;\n",
              "    }\n",
              "\n",
              "    [theme=dark] .colab-df-convert:hover {\n",
              "      background-color: #434B5C;\n",
              "      box-shadow: 0px 1px 3px 1px rgba(0, 0, 0, 0.15);\n",
              "      filter: drop-shadow(0px 1px 2px rgba(0, 0, 0, 0.3));\n",
              "      fill: #FFFFFF;\n",
              "    }\n",
              "  </style>\n",
              "\n",
              "      <script>\n",
              "        const buttonEl =\n",
              "          document.querySelector('#df-d5d4eef6-bb4c-4033-b6f6-9b9d50a9ebe4 button.colab-df-convert');\n",
              "        buttonEl.style.display =\n",
              "          google.colab.kernel.accessAllowed ? 'block' : 'none';\n",
              "\n",
              "        async function convertToInteractive(key) {\n",
              "          const element = document.querySelector('#df-d5d4eef6-bb4c-4033-b6f6-9b9d50a9ebe4');\n",
              "          const dataTable =\n",
              "            await google.colab.kernel.invokeFunction('convertToInteractive',\n",
              "                                                     [key], {});\n",
              "          if (!dataTable) return;\n",
              "\n",
              "          const docLinkHtml = 'Like what you see? Visit the ' +\n",
              "            '<a target=\"_blank\" href=https://colab.research.google.com/notebooks/data_table.ipynb>data table notebook</a>'\n",
              "            + ' to learn more about interactive tables.';\n",
              "          element.innerHTML = '';\n",
              "          dataTable['output_type'] = 'display_data';\n",
              "          await google.colab.output.renderOutput(dataTable, element);\n",
              "          const docLink = document.createElement('div');\n",
              "          docLink.innerHTML = docLinkHtml;\n",
              "          element.appendChild(docLink);\n",
              "        }\n",
              "      </script>\n",
              "    </div>\n",
              "  </div>\n",
              "  "
            ],
            "text/plain": [
              "             datetime  cars        date  tvalue  delta\n",
              "1 2021-12-01 05:30:00    12  2021-12-01       1   30.0\n",
              "2 2021-12-01 06:00:00    14  2021-12-01       2   30.0\n",
              "3 2021-12-01 06:30:00    15  2021-12-01       3   30.0\n",
              "4 2021-12-01 07:00:00    25  2021-12-01       4   30.0\n",
              "5 2021-12-01 07:30:00    46  2021-12-01       5   30.0\n",
              "6 2021-12-01 08:00:00    42  2021-12-01       6   30.0\n",
              "8 2021-12-01 15:30:00    11  2021-12-01       8   30.0"
            ]
          },
          "metadata": {},
          "execution_count": 41
        }
      ]
    },
    {
      "cell_type": "code",
      "source": [
        "df_30m_top3 = df_30m['cars'].nlargest(3)\n",
        "df_30m_top3"
      ],
      "metadata": {
        "colab": {
          "base_uri": "https://localhost:8080/"
        },
        "id": "1tgUn5yD08Eu",
        "outputId": "90963e45-41ce-4e5a-9e79-c14ce683f9c1"
      },
      "execution_count": 43,
      "outputs": [
        {
          "output_type": "execute_result",
          "data": {
            "text/plain": [
              "5    46\n",
              "6    42\n",
              "4    25\n",
              "Name: cars, dtype: int64"
            ]
          },
          "metadata": {},
          "execution_count": 43
        }
      ]
    },
    {
      "cell_type": "code",
      "source": [
        "# df_30m_top3 = df_30m.loc[df_30m['cars'].nlargest(3)]\n",
        "df_30m_top3 = df_30m.loc[df_30m['cars'].isin(df_30m['cars'].nlargest(3))]\n",
        "df_30m_top3"
      ],
      "metadata": {
        "colab": {
          "base_uri": "https://localhost:8080/",
          "height": 143
        },
        "id": "-_BXb8G21Ybx",
        "outputId": "ee1257bc-9d54-4008-c035-a390aa0ec158"
      },
      "execution_count": 45,
      "outputs": [
        {
          "output_type": "execute_result",
          "data": {
            "text/html": [
              "\n",
              "  <div id=\"df-001fa2ee-3933-4210-bd7b-81a61e0b9cac\">\n",
              "    <div class=\"colab-df-container\">\n",
              "      <div>\n",
              "<style scoped>\n",
              "    .dataframe tbody tr th:only-of-type {\n",
              "        vertical-align: middle;\n",
              "    }\n",
              "\n",
              "    .dataframe tbody tr th {\n",
              "        vertical-align: top;\n",
              "    }\n",
              "\n",
              "    .dataframe thead th {\n",
              "        text-align: right;\n",
              "    }\n",
              "</style>\n",
              "<table border=\"1\" class=\"dataframe\">\n",
              "  <thead>\n",
              "    <tr style=\"text-align: right;\">\n",
              "      <th></th>\n",
              "      <th>datetime</th>\n",
              "      <th>cars</th>\n",
              "      <th>date</th>\n",
              "      <th>tvalue</th>\n",
              "      <th>delta</th>\n",
              "    </tr>\n",
              "  </thead>\n",
              "  <tbody>\n",
              "    <tr>\n",
              "      <th>4</th>\n",
              "      <td>2021-12-01 07:00:00</td>\n",
              "      <td>25</td>\n",
              "      <td>2021-12-01</td>\n",
              "      <td>4</td>\n",
              "      <td>30.0</td>\n",
              "    </tr>\n",
              "    <tr>\n",
              "      <th>5</th>\n",
              "      <td>2021-12-01 07:30:00</td>\n",
              "      <td>46</td>\n",
              "      <td>2021-12-01</td>\n",
              "      <td>5</td>\n",
              "      <td>30.0</td>\n",
              "    </tr>\n",
              "    <tr>\n",
              "      <th>6</th>\n",
              "      <td>2021-12-01 08:00:00</td>\n",
              "      <td>42</td>\n",
              "      <td>2021-12-01</td>\n",
              "      <td>6</td>\n",
              "      <td>30.0</td>\n",
              "    </tr>\n",
              "  </tbody>\n",
              "</table>\n",
              "</div>\n",
              "      <button class=\"colab-df-convert\" onclick=\"convertToInteractive('df-001fa2ee-3933-4210-bd7b-81a61e0b9cac')\"\n",
              "              title=\"Convert this dataframe to an interactive table.\"\n",
              "              style=\"display:none;\">\n",
              "        \n",
              "  <svg xmlns=\"http://www.w3.org/2000/svg\" height=\"24px\"viewBox=\"0 0 24 24\"\n",
              "       width=\"24px\">\n",
              "    <path d=\"M0 0h24v24H0V0z\" fill=\"none\"/>\n",
              "    <path d=\"M18.56 5.44l.94 2.06.94-2.06 2.06-.94-2.06-.94-.94-2.06-.94 2.06-2.06.94zm-11 1L8.5 8.5l.94-2.06 2.06-.94-2.06-.94L8.5 2.5l-.94 2.06-2.06.94zm10 10l.94 2.06.94-2.06 2.06-.94-2.06-.94-.94-2.06-.94 2.06-2.06.94z\"/><path d=\"M17.41 7.96l-1.37-1.37c-.4-.4-.92-.59-1.43-.59-.52 0-1.04.2-1.43.59L10.3 9.45l-7.72 7.72c-.78.78-.78 2.05 0 2.83L4 21.41c.39.39.9.59 1.41.59.51 0 1.02-.2 1.41-.59l7.78-7.78 2.81-2.81c.8-.78.8-2.07 0-2.86zM5.41 20L4 18.59l7.72-7.72 1.47 1.35L5.41 20z\"/>\n",
              "  </svg>\n",
              "      </button>\n",
              "      \n",
              "  <style>\n",
              "    .colab-df-container {\n",
              "      display:flex;\n",
              "      flex-wrap:wrap;\n",
              "      gap: 12px;\n",
              "    }\n",
              "\n",
              "    .colab-df-convert {\n",
              "      background-color: #E8F0FE;\n",
              "      border: none;\n",
              "      border-radius: 50%;\n",
              "      cursor: pointer;\n",
              "      display: none;\n",
              "      fill: #1967D2;\n",
              "      height: 32px;\n",
              "      padding: 0 0 0 0;\n",
              "      width: 32px;\n",
              "    }\n",
              "\n",
              "    .colab-df-convert:hover {\n",
              "      background-color: #E2EBFA;\n",
              "      box-shadow: 0px 1px 2px rgba(60, 64, 67, 0.3), 0px 1px 3px 1px rgba(60, 64, 67, 0.15);\n",
              "      fill: #174EA6;\n",
              "    }\n",
              "\n",
              "    [theme=dark] .colab-df-convert {\n",
              "      background-color: #3B4455;\n",
              "      fill: #D2E3FC;\n",
              "    }\n",
              "\n",
              "    [theme=dark] .colab-df-convert:hover {\n",
              "      background-color: #434B5C;\n",
              "      box-shadow: 0px 1px 3px 1px rgba(0, 0, 0, 0.15);\n",
              "      filter: drop-shadow(0px 1px 2px rgba(0, 0, 0, 0.3));\n",
              "      fill: #FFFFFF;\n",
              "    }\n",
              "  </style>\n",
              "\n",
              "      <script>\n",
              "        const buttonEl =\n",
              "          document.querySelector('#df-001fa2ee-3933-4210-bd7b-81a61e0b9cac button.colab-df-convert');\n",
              "        buttonEl.style.display =\n",
              "          google.colab.kernel.accessAllowed ? 'block' : 'none';\n",
              "\n",
              "        async function convertToInteractive(key) {\n",
              "          const element = document.querySelector('#df-001fa2ee-3933-4210-bd7b-81a61e0b9cac');\n",
              "          const dataTable =\n",
              "            await google.colab.kernel.invokeFunction('convertToInteractive',\n",
              "                                                     [key], {});\n",
              "          if (!dataTable) return;\n",
              "\n",
              "          const docLinkHtml = 'Like what you see? Visit the ' +\n",
              "            '<a target=\"_blank\" href=https://colab.research.google.com/notebooks/data_table.ipynb>data table notebook</a>'\n",
              "            + ' to learn more about interactive tables.';\n",
              "          element.innerHTML = '';\n",
              "          dataTable['output_type'] = 'display_data';\n",
              "          await google.colab.output.renderOutput(dataTable, element);\n",
              "          const docLink = document.createElement('div');\n",
              "          docLink.innerHTML = docLinkHtml;\n",
              "          element.appendChild(docLink);\n",
              "        }\n",
              "      </script>\n",
              "    </div>\n",
              "  </div>\n",
              "  "
            ],
            "text/plain": [
              "             datetime  cars        date  tvalue  delta\n",
              "4 2021-12-01 07:00:00    25  2021-12-01       4   30.0\n",
              "5 2021-12-01 07:30:00    46  2021-12-01       5   30.0\n",
              "6 2021-12-01 08:00:00    42  2021-12-01       6   30.0"
            ]
          },
          "metadata": {},
          "execution_count": 45
        }
      ]
    },
    {
      "cell_type": "code",
      "source": [
        "# selecting rows based on condition\n",
        "# rslt_df = dataframe[dataframe['Percentage'] > 80]"
      ],
      "metadata": {
        "id": "JXBY6xXZzCDA"
      },
      "execution_count": 42,
      "outputs": []
    },
    {
      "cell_type": "code",
      "source": [
        "30.0"
      ],
      "metadata": {
        "id": "6OT7_0oCwxJv"
      },
      "execution_count": null,
      "outputs": []
    },
    {
      "cell_type": "code",
      "source": [
        "tdf = pd.DataFrame(\n",
        "    {\n",
        "        \"A\": [\"foo\", \"bar\", \"foo\", \"bar\", \"foo\", \"bar\", \"foo\", \"foo\"],\n",
        "        \"B\": [\"one\", \"one\", \"two\", \"three\", \"two\", \"two\", \"one\", \"three\"],\n",
        "        \"C\": np.random.randn(8),\n",
        "        \"D\": np.random.randn(8),\n",
        "    }\n",
        ")"
      ],
      "metadata": {
        "id": "k9c_LxccvfLX"
      },
      "execution_count": 33,
      "outputs": []
    },
    {
      "cell_type": "code",
      "source": [
        "tdf"
      ],
      "metadata": {
        "colab": {
          "base_uri": "https://localhost:8080/",
          "height": 300
        },
        "id": "ivlz4OYZvidH",
        "outputId": "a395fb94-9b84-4312-a6c9-8c8f54b52fec"
      },
      "execution_count": 34,
      "outputs": [
        {
          "output_type": "execute_result",
          "data": {
            "text/html": [
              "\n",
              "  <div id=\"df-2b410452-1116-4f25-9723-69aaf611ffc2\">\n",
              "    <div class=\"colab-df-container\">\n",
              "      <div>\n",
              "<style scoped>\n",
              "    .dataframe tbody tr th:only-of-type {\n",
              "        vertical-align: middle;\n",
              "    }\n",
              "\n",
              "    .dataframe tbody tr th {\n",
              "        vertical-align: top;\n",
              "    }\n",
              "\n",
              "    .dataframe thead th {\n",
              "        text-align: right;\n",
              "    }\n",
              "</style>\n",
              "<table border=\"1\" class=\"dataframe\">\n",
              "  <thead>\n",
              "    <tr style=\"text-align: right;\">\n",
              "      <th></th>\n",
              "      <th>A</th>\n",
              "      <th>B</th>\n",
              "      <th>C</th>\n",
              "      <th>D</th>\n",
              "    </tr>\n",
              "  </thead>\n",
              "  <tbody>\n",
              "    <tr>\n",
              "      <th>0</th>\n",
              "      <td>foo</td>\n",
              "      <td>one</td>\n",
              "      <td>-0.550309</td>\n",
              "      <td>-1.512572</td>\n",
              "    </tr>\n",
              "    <tr>\n",
              "      <th>1</th>\n",
              "      <td>bar</td>\n",
              "      <td>one</td>\n",
              "      <td>-0.050467</td>\n",
              "      <td>0.189017</td>\n",
              "    </tr>\n",
              "    <tr>\n",
              "      <th>2</th>\n",
              "      <td>foo</td>\n",
              "      <td>two</td>\n",
              "      <td>-0.559609</td>\n",
              "      <td>1.524420</td>\n",
              "    </tr>\n",
              "    <tr>\n",
              "      <th>3</th>\n",
              "      <td>bar</td>\n",
              "      <td>three</td>\n",
              "      <td>-0.618918</td>\n",
              "      <td>-0.607414</td>\n",
              "    </tr>\n",
              "    <tr>\n",
              "      <th>4</th>\n",
              "      <td>foo</td>\n",
              "      <td>two</td>\n",
              "      <td>-0.752648</td>\n",
              "      <td>1.057847</td>\n",
              "    </tr>\n",
              "    <tr>\n",
              "      <th>5</th>\n",
              "      <td>bar</td>\n",
              "      <td>two</td>\n",
              "      <td>0.386785</td>\n",
              "      <td>1.650399</td>\n",
              "    </tr>\n",
              "    <tr>\n",
              "      <th>6</th>\n",
              "      <td>foo</td>\n",
              "      <td>one</td>\n",
              "      <td>-0.921714</td>\n",
              "      <td>-0.261912</td>\n",
              "    </tr>\n",
              "    <tr>\n",
              "      <th>7</th>\n",
              "      <td>foo</td>\n",
              "      <td>three</td>\n",
              "      <td>0.733565</td>\n",
              "      <td>-1.263566</td>\n",
              "    </tr>\n",
              "  </tbody>\n",
              "</table>\n",
              "</div>\n",
              "      <button class=\"colab-df-convert\" onclick=\"convertToInteractive('df-2b410452-1116-4f25-9723-69aaf611ffc2')\"\n",
              "              title=\"Convert this dataframe to an interactive table.\"\n",
              "              style=\"display:none;\">\n",
              "        \n",
              "  <svg xmlns=\"http://www.w3.org/2000/svg\" height=\"24px\"viewBox=\"0 0 24 24\"\n",
              "       width=\"24px\">\n",
              "    <path d=\"M0 0h24v24H0V0z\" fill=\"none\"/>\n",
              "    <path d=\"M18.56 5.44l.94 2.06.94-2.06 2.06-.94-2.06-.94-.94-2.06-.94 2.06-2.06.94zm-11 1L8.5 8.5l.94-2.06 2.06-.94-2.06-.94L8.5 2.5l-.94 2.06-2.06.94zm10 10l.94 2.06.94-2.06 2.06-.94-2.06-.94-.94-2.06-.94 2.06-2.06.94z\"/><path d=\"M17.41 7.96l-1.37-1.37c-.4-.4-.92-.59-1.43-.59-.52 0-1.04.2-1.43.59L10.3 9.45l-7.72 7.72c-.78.78-.78 2.05 0 2.83L4 21.41c.39.39.9.59 1.41.59.51 0 1.02-.2 1.41-.59l7.78-7.78 2.81-2.81c.8-.78.8-2.07 0-2.86zM5.41 20L4 18.59l7.72-7.72 1.47 1.35L5.41 20z\"/>\n",
              "  </svg>\n",
              "      </button>\n",
              "      \n",
              "  <style>\n",
              "    .colab-df-container {\n",
              "      display:flex;\n",
              "      flex-wrap:wrap;\n",
              "      gap: 12px;\n",
              "    }\n",
              "\n",
              "    .colab-df-convert {\n",
              "      background-color: #E8F0FE;\n",
              "      border: none;\n",
              "      border-radius: 50%;\n",
              "      cursor: pointer;\n",
              "      display: none;\n",
              "      fill: #1967D2;\n",
              "      height: 32px;\n",
              "      padding: 0 0 0 0;\n",
              "      width: 32px;\n",
              "    }\n",
              "\n",
              "    .colab-df-convert:hover {\n",
              "      background-color: #E2EBFA;\n",
              "      box-shadow: 0px 1px 2px rgba(60, 64, 67, 0.3), 0px 1px 3px 1px rgba(60, 64, 67, 0.15);\n",
              "      fill: #174EA6;\n",
              "    }\n",
              "\n",
              "    [theme=dark] .colab-df-convert {\n",
              "      background-color: #3B4455;\n",
              "      fill: #D2E3FC;\n",
              "    }\n",
              "\n",
              "    [theme=dark] .colab-df-convert:hover {\n",
              "      background-color: #434B5C;\n",
              "      box-shadow: 0px 1px 3px 1px rgba(0, 0, 0, 0.15);\n",
              "      filter: drop-shadow(0px 1px 2px rgba(0, 0, 0, 0.3));\n",
              "      fill: #FFFFFF;\n",
              "    }\n",
              "  </style>\n",
              "\n",
              "      <script>\n",
              "        const buttonEl =\n",
              "          document.querySelector('#df-2b410452-1116-4f25-9723-69aaf611ffc2 button.colab-df-convert');\n",
              "        buttonEl.style.display =\n",
              "          google.colab.kernel.accessAllowed ? 'block' : 'none';\n",
              "\n",
              "        async function convertToInteractive(key) {\n",
              "          const element = document.querySelector('#df-2b410452-1116-4f25-9723-69aaf611ffc2');\n",
              "          const dataTable =\n",
              "            await google.colab.kernel.invokeFunction('convertToInteractive',\n",
              "                                                     [key], {});\n",
              "          if (!dataTable) return;\n",
              "\n",
              "          const docLinkHtml = 'Like what you see? Visit the ' +\n",
              "            '<a target=\"_blank\" href=https://colab.research.google.com/notebooks/data_table.ipynb>data table notebook</a>'\n",
              "            + ' to learn more about interactive tables.';\n",
              "          element.innerHTML = '';\n",
              "          dataTable['output_type'] = 'display_data';\n",
              "          await google.colab.output.renderOutput(dataTable, element);\n",
              "          const docLink = document.createElement('div');\n",
              "          docLink.innerHTML = docLinkHtml;\n",
              "          element.appendChild(docLink);\n",
              "        }\n",
              "      </script>\n",
              "    </div>\n",
              "  </div>\n",
              "  "
            ],
            "text/plain": [
              "     A      B         C         D\n",
              "0  foo    one -0.550309 -1.512572\n",
              "1  bar    one -0.050467  0.189017\n",
              "2  foo    two -0.559609  1.524420\n",
              "3  bar  three -0.618918 -0.607414\n",
              "4  foo    two -0.752648  1.057847\n",
              "5  bar    two  0.386785  1.650399\n",
              "6  foo    one -0.921714 -0.261912\n",
              "7  foo  three  0.733565 -1.263566"
            ]
          },
          "metadata": {},
          "execution_count": 34
        }
      ]
    },
    {
      "cell_type": "code",
      "source": [
        "grouped = tdf.groupby([\"A\"])\n",
        "grouped"
      ],
      "metadata": {
        "colab": {
          "base_uri": "https://localhost:8080/"
        },
        "id": "rVOot1g1vpmd",
        "outputId": "9b3bc2fa-34b5-4f2a-de78-65a60128c4f7"
      },
      "execution_count": 36,
      "outputs": [
        {
          "output_type": "execute_result",
          "data": {
            "text/plain": [
              "<pandas.core.groupby.generic.DataFrameGroupBy object at 0x7f6e8205d0d0>"
            ]
          },
          "metadata": {},
          "execution_count": 36
        }
      ]
    },
    {
      "cell_type": "code",
      "source": [
        "for name, group in grouped:\n",
        "    print(name)\n",
        "    print(group)\n"
      ],
      "metadata": {
        "colab": {
          "base_uri": "https://localhost:8080/"
        },
        "id": "iwO0icn0wNCl",
        "outputId": "09699fbe-abc9-424a-cd5a-67afe99b1ae5"
      },
      "execution_count": 37,
      "outputs": [
        {
          "output_type": "stream",
          "name": "stdout",
          "text": [
            "bar\n",
            "     A      B         C         D\n",
            "1  bar    one -0.050467  0.189017\n",
            "3  bar  three -0.618918 -0.607414\n",
            "5  bar    two  0.386785  1.650399\n",
            "foo\n",
            "     A      B         C         D\n",
            "0  foo    one -0.550309 -1.512572\n",
            "2  foo    two -0.559609  1.524420\n",
            "4  foo    two -0.752648  1.057847\n",
            "6  foo    one -0.921714 -0.261912\n",
            "7  foo  three  0.733565 -1.263566\n"
          ]
        }
      ]
    },
    {
      "cell_type": "code",
      "source": [
        "# group by Team, get mean, min, and max value of Age for each value of Team.\n",
        "df5 = df.groupby('delta').agg({'cars': ['max']})"
      ],
      "metadata": {
        "id": "Oc4LTthMl33Y"
      },
      "execution_count": null,
      "outputs": []
    },
    {
      "cell_type": "code",
      "source": [
        "datelist = df['date'].unique().tolist()"
      ],
      "metadata": {
        "id": "dVkzaSpeCehU"
      },
      "execution_count": 20,
      "outputs": []
    },
    {
      "cell_type": "code",
      "source": [
        "date_unique = df['date'].unique()"
      ],
      "metadata": {
        "id": "IP4VHOjoCs7x"
      },
      "execution_count": 22,
      "outputs": []
    },
    {
      "cell_type": "code",
      "source": [
        "print(datelist)"
      ],
      "metadata": {
        "colab": {
          "base_uri": "https://localhost:8080/"
        },
        "id": "4H7l3y8VCk_D",
        "outputId": "b83a3034-57f5-47cb-be20-9c632df748b7"
      },
      "execution_count": 21,
      "outputs": [
        {
          "output_type": "stream",
          "name": "stdout",
          "text": [
            "[datetime.date(2021, 12, 1), datetime.date(2021, 12, 5), datetime.date(2021, 12, 8), datetime.date(2021, 12, 9)]\n"
          ]
        }
      ]
    },
    {
      "cell_type": "code",
      "source": [
        "print(date_unique)"
      ],
      "metadata": {
        "colab": {
          "base_uri": "https://localhost:8080/"
        },
        "id": "O5ULNfIcCxza",
        "outputId": "fcb9e051-4bce-44e1-fd62-8fc7084f9082"
      },
      "execution_count": 23,
      "outputs": [
        {
          "output_type": "stream",
          "name": "stdout",
          "text": [
            "[datetime.date(2021, 12, 1) datetime.date(2021, 12, 5)\n",
            " datetime.date(2021, 12, 8) datetime.date(2021, 12, 9)]\n"
          ]
        }
      ]
    },
    {
      "cell_type": "code",
      "source": [
        "date_unique[0]"
      ],
      "metadata": {
        "colab": {
          "base_uri": "https://localhost:8080/"
        },
        "id": "EyiezsGFC4Zx",
        "outputId": "53815fad-d003-456e-926a-4aae3ca37ee0"
      },
      "execution_count": 24,
      "outputs": [
        {
          "output_type": "execute_result",
          "data": {
            "text/plain": [
              "datetime.date(2021, 12, 1)"
            ]
          },
          "metadata": {},
          "execution_count": 24
        }
      ]
    }
  ]
}